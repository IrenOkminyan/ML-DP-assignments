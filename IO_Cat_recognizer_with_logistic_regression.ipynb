{
  "nbformat": 4,
  "nbformat_minor": 0,
  "metadata": {
    "colab": {
      "name": "Cat recognizer with logistic regression.ipynb",
      "provenance": [],
      "collapsed_sections": []
    },
    "kernelspec": {
      "display_name": "Python 3",
      "language": "python",
      "name": "python3"
    },
    "language_info": {
      "codemirror_mode": {
        "name": "ipython",
        "version": 3
      },
      "file_extension": ".py",
      "mimetype": "text/x-python",
      "name": "python",
      "nbconvert_exporter": "python",
      "pygments_lexer": "ipython3",
      "version": "3.7.1"
    }
  },
  "cells": [
    {
      "cell_type": "markdown",
      "metadata": {
        "colab_type": "text",
        "id": "0uqKUAJ4-rWT"
      },
      "source": [
        "#Logistic Regression (cat recognizer)"
      ]
    },
    {
      "cell_type": "markdown",
      "metadata": {
        "colab_type": "text",
        "id": "IFoMqm-X-yGN"
      },
      "source": [
        "In this exercise you will build a logistic regression classifier to recognize cats. \n",
        "\n",
        "**Instructions:**\n",
        "- Do not use loops (for/while) in your code, unless the instructions explicitly ask you to do so.\n",
        "\n",
        "**You will learn to:**\n",
        "- how to preprocess digital images prior to feeding into the model\n",
        "- build the whole algorithm from scratch again (you've already done this during the previous exercise. So mainly you are goint to copy/pasty and make sure that all the pieces work together)\n",
        "\n",
        "**Notes:**\n",
        "- I am not going to write detailed comments to parts that you are already familiar with. Though if you need to refresh you memory, skim the files of previous exercises \n",
        "- The dataset is given in 'h5' format. You don't need to know anything specific about that format, everything is done for you in the 'load_dataset' function."
      ]
    },
    {
      "cell_type": "markdown",
      "metadata": {
        "colab_type": "text",
        "id": "gqFjSHiFYJ80"
      },
      "source": [
        "##Overview of the problem\n",
        "**Problem Statement**: You are given a dataset (\"data.h5\") containing:\n",
        "- a training set of m_train images labeled as cat (y=1) or non-cat (y=0)\n",
        "- each image is of shape (num_px, num_px, 3) where 3 is for the 3 channels (RGB). Thus, each image is square (height = num_px) and (width = num_px).\n",
        "\n",
        "You will build a simple image-recognition algorithm that can correctly classify pictures as cat or non-cat.\n",
        "\n",
        "Let's get more familiar with the dataset. Load the data by running the code of the below section."
      ]
    },
    {
      "cell_type": "markdown",
      "metadata": {
        "colab_type": "text",
        "id": "bA2oAJgRKlam"
      },
      "source": [
        "##Importing and Visualizing Data"
      ]
    },
    {
      "cell_type": "code",
      "metadata": {
        "colab_type": "code",
        "id": "TeEfdqxmU7T5",
        "outputId": "9a599a9e-6ec4-491d-dcb7-c031a07de7f2",
        "colab": {
          "base_uri": "https://localhost:8080/"
        }
      },
      "source": [
        "#provide Colab access to Google Drive \n",
        "from google.colab import drive\n",
        "drive.mount('/content/drive')"
      ],
      "execution_count": 1,
      "outputs": [
        {
          "output_type": "stream",
          "text": [
            "Drive already mounted at /content/drive; to attempt to forcibly remount, call drive.mount(\"/content/drive\", force_remount=True).\n"
          ],
          "name": "stdout"
        }
      ]
    },
    {
      "cell_type": "code",
      "metadata": {
        "colab_type": "code",
        "id": "JeiUDuboCKZm",
        "colab": {}
      },
      "source": [
        "import pandas as pd\n",
        "import torch\n",
        "import matplotlib.pyplot as plt"
      ],
      "execution_count": 0,
      "outputs": []
    },
    {
      "cell_type": "code",
      "metadata": {
        "colab_type": "code",
        "id": "ZmtuVmByWF94",
        "colab": {}
      },
      "source": [
        "# our training dataset is in h5py format. To be able work with it let's import the corresponding library.\n",
        "import h5py"
      ],
      "execution_count": 0,
      "outputs": []
    },
    {
      "cell_type": "code",
      "metadata": {
        "colab_type": "code",
        "id": "8XQJjuQpGryw",
        "colab": {}
      },
      "source": [
        "def load_dataset():\n",
        "  train_dataset = h5py.File('/content/drive/My Drive/AI/Cat/train_catvnoncat.h5', \"r\")\n",
        "  \n",
        "  train_set_x_orig = torch.from_numpy(train_dataset[\"train_set_x\"][:]).float() # your train set features\n",
        "  train_set_y_orig = torch.from_numpy(train_dataset[\"train_set_y\"][:]).float() # your train set labels\n",
        "  \n",
        "  train_set_y_orig = train_set_y_orig.reshape((train_set_y_orig.shape[0], 1)) #you could also use unsqueeze method here\n",
        "    \n",
        "  return train_set_x_orig, train_set_y_orig"
      ],
      "execution_count": 0,
      "outputs": []
    },
    {
      "cell_type": "code",
      "metadata": {
        "colab_type": "code",
        "id": "43CsjdrLGwqe",
        "colab": {}
      },
      "source": [
        "# Loading the data (cat/non-cat)\n",
        "train_set_x_orig, y = load_dataset()"
      ],
      "execution_count": 0,
      "outputs": []
    },
    {
      "cell_type": "markdown",
      "metadata": {
        "colab_type": "text",
        "id": "KhjOz_2udNFL"
      },
      "source": [
        "We added \"_orig\" at the end of image datasets (train and test) because we are going to preprocess them. After preprocessing, we will end up with train_set_x (the labels train_set_y don't need any preprocessing).\n",
        "\n",
        "Each line of your train_set_x_orig is an array representing an image. You can visualize an example by running the following code. Feel free also to change the index value and re-run to see other images"
      ]
    },
    {
      "cell_type": "code",
      "metadata": {
        "colab_type": "code",
        "id": "EuEBxhSIG9ma",
        "outputId": "39fb8dd4-9683-4ce3-a1c6-5aa39c540a39",
        "colab": {
          "base_uri": "https://localhost:8080/",
          "height": 285
        }
      },
      "source": [
        "# Example of a picture\n",
        "index = 14\n",
        "plt.imshow(train_set_x_orig[index].int())\n",
        "print (\"cat\" if y[index, :] == 1. else \"non-cat\")"
      ],
      "execution_count": 6,
      "outputs": [
        {
          "output_type": "stream",
          "text": [
            "cat\n"
          ],
          "name": "stdout"
        },
        {
          "output_type": "display_data",
          "data": {
            "image/png": "[encoded data removed]",
            "text/plain": [
              "<Figure size 432x288 with 1 Axes>"
            ]
          },
          "metadata": {
            "tags": [],
            "needs_background": "light"
          }
        }
      ]
    },
    {
      "cell_type": "markdown",
      "metadata": {
        "colab_type": "text",
        "id": "mpGgNGZbfsdn"
      },
      "source": [
        "##Understanding the structure of RGB images and our dataset"
      ]
    },
    {
      "cell_type": "markdown",
      "metadata": {
        "colab_type": "text",
        "id": "lDggdcsQfxcc"
      },
      "source": [
        "To be able to classify images, one, first, needs to understand the structure of digital images. Please follow this [link](http://geraldbakker.nl/psnumbers/rgb-explained.html) to read, or this [link](https://youtu.be/15aqFQQVBWU) to watch a youtube video about digital images and their structure. (If it is still not clear, there are tons of other resources on internet, feel free to browse and learn more)"
      ]
    },
    {
      "cell_type": "code",
      "metadata": {
        "colab_type": "code",
        "id": "vark9TdVeq18",
        "outputId": "2da1c245-f83f-4494-e918-444271236d05",
        "colab": {
          "base_uri": "https://localhost:8080/",
          "height": 34
        }
      },
      "source": [
        "#Let's call 'shape' method and see what we have\n",
        "train_set_x_orig.shape"
      ],
      "execution_count": 7,
      "outputs": [
        {
          "output_type": "execute_result",
          "data": {
            "text/plain": [
              "torch.Size([209, 64, 64, 3])"
            ]
          },
          "metadata": {
            "tags": []
          },
          "execution_count": 7
        }
      ]
    },
    {
      "cell_type": "markdown",
      "metadata": {
        "colab_type": "text",
        "id": "pfWywg0Uk4x-"
      },
      "source": [
        "We see that the shape of our dataset is [209, 64, 64, 3]. Let's understand what these numbers mean. Basically it is a 4-dimensional tensor. As in previous datasets, the first index shows the number of training examples in a dataset. In our dataset we have 209 training examples (images). Then comes a triplet of numbers that describes each individual image. You already know that images on internet are stored in RGB format. In a nutshel, each image is a 3D tensor, that is a group of three layers (matrices) stocked one on another. Each layer represents intencitis of a specific color chanel (red, green, or blue) in each of the pixels. So, in our particular example, we have images of 64x64 size. 64 pixels in width, and 64 pixels in height. Each pixel has an intensity ranging from 0 to 255. So, for example, to learn the intensity of the red color of the last pixel in first row of the 45-th image we put the following indeces: [44, 0, 63, 0]. (Remember that the indexing in pytorch tensors start from '0'). \n",
        "\n",
        "Hopefully, now you understand the structure of our dataset. But, in order to feed the dataset into our algorithm, we have to reshape it. How? For each individual image, we need to stock all the rows of each of the 3 matrices (color channels) in one giant row. Let's say we have a tiny image [2,2,3] (image 2x2 with 3 chanels): red channel - [[23,144], [137, 0]], green channel - [[78, 100],[188, 19]], and blue channel - [[90, 11], [0, 238]]. We want to reshape it to get the following vector: [23, 144, 137, 0, 78, 100, 188, 19, 90, 11, 0, 238]. This operation resulted in a vector of length 12. In our particula case we'll have 64x64x3 = 12,288 features. After reshaping all the images we'll have a matrix of the following shape : [209, 12288] - 209 training examples of length 12288. In other words, each image is defined by 12288 features (intencities of each of the channel pixel). The below code reshapes our dataset: "
      ]
    },
    {
      "cell_type": "code",
      "metadata": {
        "colab_type": "code",
        "id": "XLBka-lTHa1S",
        "outputId": "6cf8b9e5-40bc-4eed-8c2d-f3e99d601be7",
        "colab": {
          "base_uri": "https://localhost:8080/",
          "height": 51
        }
      },
      "source": [
        "# Reshape the training and test examples\n",
        "\n",
        "train_set_x_flatten = train_set_x_orig.reshape(train_set_x_orig.shape[0], -1)\n",
        "\n",
        "print (\"train_set_x_flatten shape: \" + str(train_set_x_flatten.shape))\n",
        "print (\"train_set_y shape: \" + str(y.shape))"
      ],
      "execution_count": 8,
      "outputs": [
        {
          "output_type": "stream",
          "text": [
            "train_set_x_flatten shape: torch.Size([209, 12288])\n",
            "train_set_y shape: torch.Size([209, 1])\n"
          ],
          "name": "stdout"
        }
      ]
    },
    {
      "cell_type": "code",
      "metadata": {
        "colab_type": "code",
        "id": "dU7fg5PaHlCC",
        "colab": {}
      },
      "source": [
        "#Feature scaling: since the values of each of the feature is >= 0, and the max value is 255, it is enough to just devide the values of each of the features by 255. \n",
        "X = train_set_x_flatten/255."
      ],
      "execution_count": 0,
      "outputs": []
    },
    {
      "cell_type": "code",
      "metadata": {
        "colab_type": "code",
        "id": "-3vVY1x1uxt5",
        "outputId": "299c92de-c711-47ae-f35d-a1b939d81d2d",
        "colab": {
          "base_uri": "https://localhost:8080/",
          "height": 34
        }
      },
      "source": [
        "X.shape"
      ],
      "execution_count": 10,
      "outputs": [
        {
          "output_type": "execute_result",
          "data": {
            "text/plain": [
              "torch.Size([209, 12288])"
            ]
          },
          "metadata": {
            "tags": []
          },
          "execution_count": 10
        }
      ]
    },
    {
      "cell_type": "markdown",
      "metadata": {
        "colab_type": "text",
        "id": "-mcW-Yv9us5V"
      },
      "source": [
        "Our dataset is of shape [209, 12288]: 209 training examples, each of which consists of values for 12288 features. \n",
        "Now, you need to build a classifier that will recognize, whether it is a cat image or not. Implement each of the helper functions and train the model. "
      ]
    },
    {
      "cell_type": "markdown",
      "metadata": {
        "colab_type": "text",
        "id": "Ekd5u5wRb-i5"
      },
      "source": [
        "###Helper functions"
      ]
    },
    {
      "cell_type": "code",
      "metadata": {
        "colab_type": "code",
        "id": "LhSbBDG_aqx3",
        "colab": {}
      },
      "source": [
        "def sigmoid(z):\n",
        "  #Code here\n",
        "  s = 1/(1 + torch.exp(-z))\n",
        "  return s"
      ],
      "execution_count": 0,
      "outputs": []
    },
    {
      "cell_type": "code",
      "metadata": {
        "colab_type": "code",
        "id": "8ED12G8C2J5u",
        "colab": {}
      },
      "source": [
        "def initialize_with_zeros(dim):\n",
        "  #Code here\n",
        "  w = torch.zeros(1, dim)\n",
        "  b = 0  \n",
        "  assert(w.shape == (1, dim))   \n",
        "  return w, b"
      ],
      "execution_count": 0,
      "outputs": []
    },
    {
      "cell_type": "code",
      "metadata": {
        "colab_type": "code",
        "id": "fSWTrgP6u84S",
        "colab": {}
      },
      "source": [
        "def cost_fn(a, y):\n",
        "  #Code here\n",
        "  m = y.numel()\n",
        "  J = (-y.t()@torch.log(a) - (1-y).t()@torch.log(1-a))/m  \n",
        "  return J"
      ],
      "execution_count": 0,
      "outputs": []
    },
    {
      "cell_type": "code",
      "metadata": {
        "colab_type": "code",
        "id": "_BDfPwTWzKG7",
        "colab": {}
      },
      "source": [
        "def model(X, w, b): \n",
        "  #Code here\n",
        "  z = X@w.t() + b\n",
        "  a = sigmoid(z)\n",
        "  return a"
      ],
      "execution_count": 0,
      "outputs": []
    },
    {
      "cell_type": "code",
      "metadata": {
        "colab_type": "code",
        "id": "Wwh8LM8s_Gei",
        "colab": {}
      },
      "source": [
        "def backward(X, a, y):\n",
        "  #Code here \n",
        "  m = y.numel()\n",
        "  dw = ((a - y).t()@X)/m\n",
        "  db = ((a - y).sum())/m \n",
        "  return dw, db"
      ],
      "execution_count": 0,
      "outputs": []
    },
    {
      "cell_type": "code",
      "metadata": {
        "colab_type": "code",
        "id": "7fRzkrNrDHZQ",
        "colab": {}
      },
      "source": [
        "def predict(X, w, b):\n",
        "  A = model(X, w, b)\n",
        "  Y_prediction = A > 0.5       \n",
        "        \n",
        "  return Y_prediction.float()"
      ],
      "execution_count": 0,
      "outputs": []
    },
    {
      "cell_type": "code",
      "metadata": {
        "colab_type": "code",
        "id": "_R8H_RJtNj38",
        "colab": {}
      },
      "source": [
        "def train (X, y, epochs, lr):\n",
        "   \n",
        "  J_history = []\n",
        "  \n",
        "  w, b = initialize_with_zeros(X.shape[1])\n",
        "\n",
        "  for i in range(epochs):\n",
        "    #code here\n",
        "    # Forward pass:\n",
        "    preds = model(X, w, b)         # calculate the predictions for the current values of w and b\n",
        "    J = cost_fn(preds, y)       # calculate the loss - value of the cost function for the current values of w and b\n",
        "    #Backward pass:\n",
        "    dw, db = backward(X, preds, y) # calculate the partial derivatives dw and db\n",
        "    w -=  alpha*dw                    # update the values of w \n",
        "    b -=  alpha*db                    # update the value b\n",
        "\n",
        "    if (i%10 == 0):\n",
        "      J_history.append(J)\n",
        "  \n",
        "  return w, b, J_history "
      ],
      "execution_count": 0,
      "outputs": []
    },
    {
      "cell_type": "code",
      "metadata": {
        "colab_type": "code",
        "id": "nm-T2uGOY66Z",
        "colab": {}
      },
      "source": [
        "alpha = 0.001\n",
        "epochs = 4000\n",
        "#please see the last sell for some analysis"
      ],
      "execution_count": 0,
      "outputs": []
    },
    {
      "cell_type": "code",
      "metadata": {
        "colab_type": "code",
        "id": "cbuaf6Ta9Yek",
        "outputId": "8a00c1cf-6f37-4e61-89c7-1f606f1850dc",
        "colab": {
          "base_uri": "https://localhost:8080/",
          "height": 51
        }
      },
      "source": [
        "%time w, b, J_h = train(X, y, epochs, alpha)"
      ],
      "execution_count": 19,
      "outputs": [
        {
          "output_type": "stream",
          "text": [
            "CPU times: user 4.62 s, sys: 1.48 ms, total: 4.62 s\n",
            "Wall time: 4.62 s\n"
          ],
          "name": "stdout"
        }
      ]
    },
    {
      "cell_type": "code",
      "metadata": {
        "colab_type": "code",
        "id": "dOXNqE0fDpwq",
        "colab": {}
      },
      "source": [
        "Y_prediction_train = predict(X, w, b)"
      ],
      "execution_count": 0,
      "outputs": []
    },
    {
      "cell_type": "code",
      "metadata": {
        "colab_type": "code",
        "id": "v4kvhAUYXJoK",
        "outputId": "007fd776-a97e-42af-a926-6b253d5461ab",
        "colab": {
          "base_uri": "https://localhost:8080/",
          "height": 34
        }
      },
      "source": [
        "# Print train/test Errors\n",
        "print(\"train accuracy: {} %\".format(100 - torch.mean(torch.abs(Y_prediction_train - y)) * 100))"
      ],
      "execution_count": 21,
      "outputs": [
        {
          "output_type": "stream",
          "text": [
            "train accuracy: 95.69377899169922 %\n"
          ],
          "name": "stdout"
        }
      ]
    },
    {
      "cell_type": "markdown",
      "metadata": {
        "colab_type": "text",
        "id": "p-1rw8RSwNpn"
      },
      "source": [
        "**Expected output**\n",
        "                                            \n",
        "                                            **train accuracy**  99.0430603"
      ]
    },
    {
      "cell_type": "code",
      "metadata": {
        "colab_type": "code",
        "id": "XC21ucPT9wYY",
        "outputId": "00824e23-527a-487e-877f-95f4b7829aeb",
        "colab": {
          "base_uri": "https://localhost:8080/",
          "height": 299
        }
      },
      "source": [
        "import matplotlib.pyplot as plt\n",
        "print(J_h[-1])\n",
        "plt.plot(J_h)"
      ],
      "execution_count": 22,
      "outputs": [
        {
          "output_type": "stream",
          "text": [
            "tensor([[0.2445]])\n"
          ],
          "name": "stdout"
        },
        {
          "output_type": "execute_result",
          "data": {
            "text/plain": [
              "[<matplotlib.lines.Line2D at 0x7f7b474d8b70>]"
            ]
          },
          "metadata": {
            "tags": []
          },
          "execution_count": 22
        },
        {
          "output_type": "display_data",
          "data": {
            "image/png": "[encoded data removed]",
            "text/plain": [
              "<Figure size 432x288 with 1 Axes>"
            ]
          },
          "metadata": {
            "tags": [],
            "needs_background": "light"
          }
        }
      ]
    },
    {
      "cell_type": "markdown",
      "metadata": {
        "colab_type": "text",
        "id": "fjI_WdTwnUzB"
      },
      "source": [
        "**Testing**\n",
        "                                            \n",
        "                                            Importing test data and calculating the accuracy\n",
        "                                             "
      ]
    },
    {
      "cell_type": "code",
      "metadata": {
        "colab_type": "code",
        "id": "Rs5_rPdHWFsT",
        "colab": {}
      },
      "source": [
        "def load_test_dataset():\n",
        "  test_dataset = h5py.File('/content/drive/My Drive/AI/Cat/test_catvnoncat.h5', \"r\")\n",
        "  \n",
        "  test_set_x_orig = torch.from_numpy(test_dataset[\"test_set_x\"][:]).float() # your train set features\n",
        "  test_set_y_orig = torch.from_numpy(test_dataset[\"test_set_y\"][:]).float() # your train set labels\n",
        "  \n",
        "  test_set_y_orig = test_set_y_orig.reshape((test_set_y_orig.shape[0], 1)) #you could also use unsqueeze method here\n",
        "    \n",
        "  return test_set_x_orig, test_set_y_orig"
      ],
      "execution_count": 0,
      "outputs": []
    },
    {
      "cell_type": "code",
      "metadata": {
        "colab_type": "code",
        "id": "_FFWH3-airTs",
        "outputId": "a88f939c-a96f-49c2-8936-72643266b27e",
        "colab": {
          "base_uri": "https://localhost:8080/",
          "height": 34
        }
      },
      "source": [
        "test_x, test_y = load_test_dataset()\n",
        "\n",
        "test_data = test_x.reshape(test_x.shape[0], -1)/255\n",
        "predictions_test = predict(test_data, w, b )\n",
        "\n",
        "print(\"test accuracy: {} %\".format(100 - torch.mean(torch.abs(predictions_test - test_y)) * 100))"
      ],
      "execution_count": 24,
      "outputs": [
        {
          "output_type": "stream",
          "text": [
            "test accuracy: 74.0 %\n"
          ],
          "name": "stdout"
        }
      ]
    },
    {
      "cell_type": "code",
      "metadata": {
        "id": "GqOnnxWKJPGI",
        "colab_type": "code",
        "colab": {}
      },
      "source": [
        ""
      ],
      "execution_count": 0,
      "outputs": []
    }
  ]
}