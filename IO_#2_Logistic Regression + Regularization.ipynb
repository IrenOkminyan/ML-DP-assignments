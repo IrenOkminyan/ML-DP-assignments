{
  "nbformat": 4,
  "nbformat_minor": 0,
  "metadata": {
    "colab": {
      "name": "#2_Logistic Regression + Regularization.ipynb",
      "provenance": [],
      "collapsed_sections": []
    },
    "kernelspec": {
      "name": "python3",
      "display_name": "Python 3"
    }
  },
  "cells": [
    {
      "cell_type": "markdown",
      "metadata": {
        "id": "uuQj-HGssjd8",
        "colab_type": "text"
      },
      "source": [
        "#Logistic Regression (with Regularization)\n",
        "\n",
        "In this part of the exercise, you will implement regularized logistic regression\n",
        "to predict whether microchips from a fabrication plant passes quality assurance (QA). During QA, each microchip goes through various tests to ensure\n",
        "it is functioning correctly.\n",
        "Suppose you are the product manager of the factory and you have the\n",
        "test results for some microchips on two different tests. From these two tests,\n",
        "you would like to determine whether the microchips should be accepted or\n",
        "rejected. To help you make the decision, you have a dataset of test results\n",
        "on past microchips, from which you can build a logistic regression model."
      ]
    },
    {
      "cell_type": "markdown",
      "metadata": {
        "id": "uDlmt-JjrNq_",
        "colab_type": "text"
      },
      "source": [
        "###Loading and preprocessing the data"
      ]
    },
    {
      "cell_type": "code",
      "metadata": {
        "id": "ZOIDq8otq40R",
        "colab_type": "code",
        "outputId": "1d578a36-0dd5-47ad-aaa0-7b031788dcb0",
        "colab": {
          "base_uri": "https://localhost:8080/",
          "height": 34
        }
      },
      "source": [
        "#Let's start from providing Colab access to Google Drive to be able load the file with the data\n",
        "from google.colab import drive\n",
        "drive.mount('/content/drive')"
      ],
      "execution_count": 756,
      "outputs": [
        {
          "output_type": "stream",
          "text": [
            "Drive already mounted at /content/drive; to attempt to forcibly remount, call drive.mount(\"/content/drive\", force_remount=True).\n"
          ],
          "name": "stdout"
        }
      ]
    },
    {
      "cell_type": "code",
      "metadata": {
        "id": "8ljJGzNSr4vJ",
        "colab_type": "code",
        "colab": {}
      },
      "source": [
        "import torch\n",
        "import pandas as pd\n",
        "import matplotlib.pyplot as plt\n",
        "import numpy as np"
      ],
      "execution_count": 0,
      "outputs": []
    },
    {
      "cell_type": "code",
      "metadata": {
        "id": "dJRBBUQls5FF",
        "colab_type": "code",
        "colab": {}
      },
      "source": [
        "#read data from file\n",
        "data = pd.read_csv('/content/drive/My Drive/Polynomial/#3_ex2data2.txt', header = None)"
      ],
      "execution_count": 0,
      "outputs": []
    },
    {
      "cell_type": "code",
      "metadata": {
        "id": "5a_ep8q9uuwO",
        "colab_type": "code",
        "colab": {}
      },
      "source": [
        "#convert data to a torch tensor\n",
        "data = torch.tensor(data.values).float()"
      ],
      "execution_count": 0,
      "outputs": []
    },
    {
      "cell_type": "code",
      "metadata": {
        "id": "ndW7ub8SCEP2",
        "colab_type": "code",
        "colab": {}
      },
      "source": [
        "# First, let's split the data to 'inputs'(X) and 'lables'(y)\n",
        "X = data[:,:2]\n",
        "y = data[:,2].unsqueeze(1)"
      ],
      "execution_count": 0,
      "outputs": []
    },
    {
      "cell_type": "markdown",
      "metadata": {
        "id": "NLFJnPDivF-G",
        "colab_type": "text"
      },
      "source": [
        "###Visualizing the data"
      ]
    },
    {
      "cell_type": "markdown",
      "metadata": {
        "id": "dUk43I6bvJR_",
        "colab_type": "text"
      },
      "source": [
        "Before starting to implement any learning algorithm, it is always good to\n",
        "visualize the data if possible."
      ]
    },
    {
      "cell_type": "code",
      "metadata": {
        "id": "HywOldbBvbi-",
        "colab_type": "code",
        "colab": {}
      },
      "source": [
        "def plotData(X, y):\n",
        "    plt.scatter(X[:,0][y[:,0]==0], X[:,1][y[:,0]==0], marker = 'x', color = 'red')\n",
        "    plt.scatter(X[:,0][y[:,0]==1], X[:,1][y[:,0]==1], marker = 'o', color = 'green', alpha = 0.6)\n",
        "    plt.xlabel('Microchip test_1')\n",
        "    plt.ylabel('Microchip test_2')\n",
        "    plt.show"
      ],
      "execution_count": 0,
      "outputs": []
    },
    {
      "cell_type": "code",
      "metadata": {
        "id": "TferyJzIUc9x",
        "colab_type": "code",
        "outputId": "501c482c-7494-42b5-8abe-5d03c5b8f87a",
        "colab": {
          "base_uri": "https://localhost:8080/",
          "height": 280
        }
      },
      "source": [
        "plotData(X, y)"
      ],
      "execution_count": 762,
      "outputs": [
        {
          "output_type": "display_data",
          "data": {
            "image/png": "[encoded data removed]",
            "text/plain": [
              "<Figure size 432x288 with 1 Axes>"
            ]
          },
          "metadata": {
            "tags": []
          }
        }
      ]
    },
    {
      "cell_type": "markdown",
      "metadata": {
        "id": "9ivy7OKL4H1V",
        "colab_type": "text"
      },
      "source": [
        "In the above plot green dots specify positive outcome (chips were accepted) and the red once - negative (chips were rejected)\n",
        "\n",
        "**The objective of this exercise is to build a classification model that will predict whether a chip will be accepted or not, based on the scores of two tests.** "
      ]
    },
    {
      "cell_type": "markdown",
      "metadata": {
        "id": "uI1H86StYX3D",
        "colab_type": "text"
      },
      "source": [
        "###Feature mapping"
      ]
    },
    {
      "cell_type": "markdown",
      "metadata": {
        "id": "zGuoHbNEYaYt",
        "colab_type": "text"
      },
      "source": [
        "One way to fit the data better is to create more features from each data\n",
        "point. In the function mapFeature, we will map the features into\n",
        "all polynomial terms of x1 and x2 up to the some power (degree).\n",
        "\n",
        "For example, if degree is 6 featureMap(x1, x2) will output a 28-dimensional vector:\n",
        "\n",
        "output = $\\begin{bmatrix} x_1\\\\x_2 \\\\ x_1^2\\\\ x_1x_2\\\\x_2^2\\\\x_1^3\\\\ \\vdots \\\\x_1x_2^5\\\\x_2^6\\end{bmatrix}$\n",
        "\n",
        "As a result of this mapping, our vector of two features (the scores on\n",
        "two QA tests) has been transformed into a 28-dimensional vector. A logistic\n",
        "regression classifier trained on this higher-dimension feature vector will have\n",
        "a more complex decision boundary and will appear nonlinear when drawn in\n",
        "our 2-dimensional plot.\n",
        "While the feature mapping allows us to build a more expressive classifier,\n",
        "it also more susceptible to overfitting. In the next parts of the exercise, you\n",
        "will implement regularized logistic regression to fit the data and also see for\n",
        "yourself how regularization can help combat the overfitting problem.\n"
      ]
    },
    {
      "cell_type": "code",
      "metadata": {
        "id": "m4CB3FPI0RRu",
        "colab_type": "code",
        "colab": {}
      },
      "source": [
        "degree = 6"
      ],
      "execution_count": 0,
      "outputs": []
    },
    {
      "cell_type": "code",
      "metadata": {
        "id": "l-9dv59BYwWp",
        "colab_type": "code",
        "colab": {}
      },
      "source": [
        "def featureMap(X1, X2, degree):\n",
        "  X_out = []\n",
        "  for i in range (1, degree+1):\n",
        "    for j in range (i+1):\n",
        "      tempo = (X1.pow(i-j)*X2.pow(j))\n",
        "      X_out.append(tempo)\n",
        "  X_out = torch.stack(X_out)\n",
        "  return X_out.t()"
      ],
      "execution_count": 0,
      "outputs": []
    },
    {
      "cell_type": "code",
      "metadata": {
        "id": "1c8faoYLGlOh",
        "colab_type": "code",
        "colab": {}
      },
      "source": [
        "# appy feature mapping to our data set\n",
        "X_out = featureMap(X[:, 0], X[:,1], degree)"
      ],
      "execution_count": 0,
      "outputs": []
    },
    {
      "cell_type": "markdown",
      "metadata": {
        "id": "8vUT8BvgUFba",
        "colab_type": "text"
      },
      "source": [
        "###Computing the cost $J(w,b)$\n",
        "\n",
        "\\** **Exercise** \\** Implement cost-fn function that calculates cost $J(w,b)$ for regularized logistic regression\n",
        "\n",
        "$J(w,b) = = -\\frac{1}{m}[\\sum_{i=1}^{m}\\ y^{(i)} log(\\hat {y}^{(i)})+(1-y^{(i)})log(1- \\hat {y}^{(i)})] + \\frac {\\lambda}{2m} \\sum_{j=1} ^{n}w_j^2$"
      ]
    },
    {
      "cell_type": "code",
      "metadata": {
        "id": "fSWTrgP6u84S",
        "colab_type": "code",
        "colab": {}
      },
      "source": [
        "# GRADEDD TASK: Implement regularized 'cost_fn' for logistic regression\n",
        "\n",
        "def cost_fn(a, y, w, Lambda):\n",
        "  m = y.numel()\n",
        "  #START CODE HERE (1 line of code)\n",
        "  \n",
        "  J = (-y.t()@torch.log(a) - (1-y).t()@torch.log(1-a) + Lambda*sum(w@w.t())/2)/m \n",
        "  #END CODE HERE\n",
        "  \n",
        "  return J"
      ],
      "execution_count": 0,
      "outputs": []
    },
    {
      "cell_type": "markdown",
      "metadata": {
        "colab_type": "text",
        "id": "LxbHQOWlN64i"
      },
      "source": [
        "###Computing the partial derivatives $dw$ and $db$\n",
        "\n",
        "\\** **Exercise** \\** Derive formulas that calculate partial derivatives $dw$ and $db$ of the cost fucntion $J(w,b)$ with respect to $w$, and $b$ and implement backward function for regularized logistic regression\n"
      ]
    },
    {
      "cell_type": "code",
      "metadata": {
        "id": "a9y7SvZQPKd-",
        "colab_type": "code",
        "colab": {}
      },
      "source": [
        "# GRADEDD TASK: Implement 'backward' function to calculate dw and db for regularized logistic regression case\n",
        "\n",
        "def backward(X, a, y, w, Lambda):\n",
        "  m = y.numel()\n",
        "  #START CODE HERE\n",
        "  dw = ((a - y).t()@X + Lambda*w)/m \n",
        "  db = ((a - y).sum())/m \n",
        "  #END CODE HERE\n",
        "  return dw, db "
      ],
      "execution_count": 0,
      "outputs": []
    },
    {
      "cell_type": "markdown",
      "metadata": {
        "id": "Ekd5u5wRb-i5",
        "colab_type": "text"
      },
      "source": [
        "###Helper functions"
      ]
    },
    {
      "cell_type": "code",
      "metadata": {
        "colab_type": "code",
        "id": "LhSbBDG_aqx3",
        "colab": {}
      },
      "source": [
        "def sigmoid(z):\n",
        "  s = 1/(1+torch.exp(-z))\n",
        "  return s"
      ],
      "execution_count": 0,
      "outputs": []
    },
    {
      "cell_type": "code",
      "metadata": {
        "id": "8ED12G8C2J5u",
        "colab_type": "code",
        "colab": {}
      },
      "source": [
        "def initialize_with_zeros(dim):\n",
        "  w = torch.zeros((1, dim))\n",
        "  b = torch.tensor([0.0])\n",
        "  \n",
        "  assert(w.shape == (1, dim))\n",
        "    \n",
        "  return w, b"
      ],
      "execution_count": 0,
      "outputs": []
    },
    {
      "cell_type": "code",
      "metadata": {
        "id": "gohyvUBkBqK_",
        "colab_type": "code",
        "colab": {}
      },
      "source": [
        "def model(X, w, b):\n",
        "  z = X@w.t() + b\n",
        "  return sigmoid(z)"
      ],
      "execution_count": 0,
      "outputs": []
    },
    {
      "cell_type": "markdown",
      "metadata": {
        "id": "fGr4FdahAt4u",
        "colab_type": "text"
      },
      "source": [
        "### functions for plotting the Decision Boundary\n",
        "\n",
        "In this section we'll be plotting the Desicion Boundary with the same principle as was explained in file 'Feature mapping explained (polynomial regression)' (Alternative way), but for the two-dimensional case."
      ]
    },
    {
      "cell_type": "code",
      "metadata": {
        "id": "99xnCSfUBOnk",
        "colab_type": "code",
        "colab": {}
      },
      "source": [
        "# zGeneration function calculates predictions for each point of (xx, yy) meshgrid.\n",
        "# First study the 'plot_decision_boundary' function. It will be clearer what is the purpose of this function \n",
        "def zGeneration(x, y, w, b, degree):  \n",
        "  assert x.shape == y.shape  \n",
        "  z = torch.zeros_like(x)\n",
        "  \n",
        "  for i in range(x.shape[0]):\n",
        "    for j in range(x.shape[1]):\n",
        "      z[i,j] = featureMap(x[i,j], y[i,j], degree)@w.t() + b\n",
        "  return z"
      ],
      "execution_count": 0,
      "outputs": []
    },
    {
      "cell_type": "markdown",
      "metadata": {
        "id": "ILCmb-Qj7EuJ",
        "colab_type": "text"
      },
      "source": [
        "\\** **Exercise** \\** \n",
        "\n",
        "The implementation of 'zGeneration' function is very inefficient. For larger values of 'degree' and small values of 'step' (step is defined in function 'plot_decision_boundary') it will take long time to process. \n",
        "\n",
        "**Task** Implement 'zGenerationV' function, a vectorized version of 'zGeneration' function. \n",
        "\n",
        "**Note** Dont use any loops (for, while,..)\n",
        " "
      ]
    },
    {
      "cell_type": "code",
      "metadata": {
        "id": "QcEdS2Jws1eF",
        "colab_type": "code",
        "colab": {}
      },
      "source": [
        "# GRADEDD TASK: create vectorized version of zGeneration fuction\n",
        "\n",
        "def zGenerationV(x, y, w, b, degree): \n",
        "  assert x.shape == y.shape\n",
        "  #START CODE HERE \n",
        "  N = x.numel()\n",
        "  row = x[:,0].numel()\n",
        "  col = x[0,:].numel()\n",
        "  inter = featureMap(x.reshape(N, 1).squeeze(1), y.reshape(N, 1).squeeze(1), degree)@w.t() + b\n",
        "  z = inter.reshape(row, col)\n",
        "  #END CODE HERE  \n",
        "  return z  \n",
        "  "
      ],
      "execution_count": 0,
      "outputs": []
    },
    {
      "cell_type": "code",
      "metadata": {
        "id": "we5ovp20adeL",
        "colab_type": "code",
        "colab": {}
      },
      "source": [
        "def plot_decision_boundary(X):\n",
        "  step = 0.05\n",
        "\n",
        "  x_min, x_max = torch.min(X[:,0])-1, torch.max(X[:,0])+1\n",
        "  y_min, y_max = torch.min(X[:,1])-1, torch.max(X[:,1])+1\n",
        "\n",
        "  xRange = torch.arange(x_min, x_max, step)\n",
        "  yRange = torch.arange(y_min, y_max, step)\n",
        "\n",
        "  xx, yy = torch.meshgrid(xRange, yRange)\n",
        "\n",
        "  zz = zGeneration(xx, yy, w, b, degree)\n",
        "#  zz = zGenerationV(xx, yy, w, b, degree)\n",
        "\n",
        "  plt.scatter(X[:,0][y[:,0]==0], X[:,1][y[:,0]==0], marker = 'x', color = 'red', label=\"Rejected\")\n",
        "  plt.scatter(X[:,0][y[:,0]==1], X[:,1][y[:,0]==1], marker = 'o', color = 'green', alpha = 0.6, label=\"Admitted\")\n",
        "  ax = plt.gca() # gets the current Axes instance on the current figure\n",
        "  ax.autoscale(False)\n",
        "  plt.contour(xx, yy, zz, levels = [0])\n",
        "  plt.legend(loc = 0)"
      ],
      "execution_count": 0,
      "outputs": []
    },
    {
      "cell_type": "code",
      "metadata": {
        "id": "aJCtT4FbFh1e",
        "colab_type": "code",
        "colab": {}
      },
      "source": [
        ""
      ],
      "execution_count": 0,
      "outputs": []
    },
    {
      "cell_type": "markdown",
      "metadata": {
        "id": "pZJO4GKXrfU6",
        "colab_type": "text"
      },
      "source": [
        "###Training the model"
      ]
    },
    {
      "cell_type": "markdown",
      "metadata": {
        "id": "YdsxRNtWVt1H",
        "colab_type": "text"
      },
      "source": [
        "**Excercise**\n",
        "Since you are reading this, it means that you've completed all the tasks above (maybe except zGenerationV, which you can implement in teh very end). Now, try different values for hyperparameters 'degree', learning rate - 'lr', number of epochs 'epochs', assign the values to corresponding variables below and train the model to obtain the maximum accuracy you possibly can. Values for hyperparameters should be reasonable: don't even try millions for 'epochs' or hundreds for 'degree'. Eventually, your machine has limited computational power ;) At this point keep Lambda = 0. \n",
        "\n",
        "The plot for decision boundary should be something like the below one. Don't pursue exact similarity, this is just a proxy. The objective is to show that we have here overfitting. \n",
        "\n",
        "![image](https://drive.google.com/uc?id=1otJbf-Btc-aQ1jVSo3PfJAtutrjBHGtM)"
      ]
    },
    {
      "cell_type": "code",
      "metadata": {
        "id": "Yt561jjB-yVe",
        "colab_type": "code",
        "colab": {}
      },
      "source": [
        "lr = 0.1\n",
        "epochs = 1000"
      ],
      "execution_count": 0,
      "outputs": []
    },
    {
      "cell_type": "code",
      "metadata": {
        "id": "j53-Vnzn8AQE",
        "colab_type": "code",
        "colab": {}
      },
      "source": [
        "def train (X, y, lr, epochs, Lambda = 0):\n",
        "  m = y.numel()\n",
        "  \n",
        "  J_history = []\n",
        "  \n",
        "  w, b = initialize_with_zeros(X.shape[1])\n",
        "\n",
        "  for i in range(epochs):\n",
        "    a = model(X, w, b)  \n",
        "    J = cost_fn(a, y, w, Lambda)\n",
        "    dw, db = backward(X, a, y, w, Lambda)\n",
        "    w -= lr*dw \n",
        "    b -= lr*db\n",
        "    \n",
        "    # Record the costs\n",
        "    if i % 100 == 0:\n",
        "      J_history.append(J) \n",
        "      \n",
        "  return w, b, J_history "
      ],
      "execution_count": 0,
      "outputs": []
    },
    {
      "cell_type": "code",
      "metadata": {
        "id": "-XhzNyVf0Q9b",
        "colab_type": "code",
        "colab": {}
      },
      "source": [
        "w, b, J_h = train(X_out, y, lr, epochs)"
      ],
      "execution_count": 0,
      "outputs": []
    },
    {
      "cell_type": "markdown",
      "metadata": {
        "id": "9KIvdyFir8Re",
        "colab_type": "text"
      },
      "source": [
        "###Plotting the historical values of the cost function J"
      ]
    },
    {
      "cell_type": "code",
      "metadata": {
        "id": "XC21ucPT9wYY",
        "colab_type": "code",
        "outputId": "52a32370-df26-4838-cc1c-bff5ff0ea94f",
        "colab": {
          "base_uri": "https://localhost:8080/",
          "height": 282
        }
      },
      "source": [
        "plt.plot(J_h)"
      ],
      "execution_count": 777,
      "outputs": [
        {
          "output_type": "execute_result",
          "data": {
            "text/plain": [
              "[<matplotlib.lines.Line2D at 0x7f83bc5869e8>]"
            ]
          },
          "metadata": {
            "tags": []
          },
          "execution_count": 777
        },
        {
          "output_type": "display_data",
          "data": {
            "image/png": "[encoded data removed]",
            "text/plain": [
              "<Figure size 432x288 with 1 Axes>"
            ]
          },
          "metadata": {
            "tags": []
          }
        }
      ]
    },
    {
      "cell_type": "markdown",
      "metadata": {
        "id": "UNPSjADBrwWc",
        "colab_type": "text"
      },
      "source": [
        "###Checking the accuracy of the model"
      ]
    },
    {
      "cell_type": "code",
      "metadata": {
        "id": "AxZuvR_K9RQ-",
        "colab_type": "code",
        "colab": {}
      },
      "source": [
        "def predict(X, w, b):\n",
        "  preds = X@w.t() + b\n",
        "  return preds > 0"
      ],
      "execution_count": 0,
      "outputs": []
    },
    {
      "cell_type": "code",
      "metadata": {
        "id": "2MjVv2gmMTY_",
        "colab_type": "code",
        "colab": {}
      },
      "source": [
        "y_preds = predict(X_out, w, b).float()"
      ],
      "execution_count": 0,
      "outputs": []
    },
    {
      "cell_type": "code",
      "metadata": {
        "id": "vqx0CDSvuo5v",
        "colab_type": "code",
        "outputId": "e58c9812-5dda-42df-c590-d72953cad90a",
        "colab": {
          "base_uri": "https://localhost:8080/",
          "height": 34
        }
      },
      "source": [
        "print(\"train accuracy: {} %\".format(100 - torch.mean(torch.abs(y_preds - y)) * 100))"
      ],
      "execution_count": 780,
      "outputs": [
        {
          "output_type": "stream",
          "text": [
            "train accuracy: 83.05084228515625 %\n"
          ],
          "name": "stdout"
        }
      ]
    },
    {
      "cell_type": "code",
      "metadata": {
        "id": "osm2MuKcbtoX",
        "colab_type": "code",
        "outputId": "b85a9f19-083e-4ea4-cfc2-88e7baa84bcc",
        "colab": {
          "base_uri": "https://localhost:8080/",
          "height": 265
        }
      },
      "source": [
        "plot_decision_boundary(X)"
      ],
      "execution_count": 781,
      "outputs": [
        {
          "output_type": "display_data",
          "data": {
            "image/png": "[encoded data removed]",
            "text/plain": [
              "<Figure size 432x288 with 1 Axes>"
            ]
          },
          "metadata": {
            "tags": []
          }
        }
      ]
    },
    {
      "cell_type": "markdown",
      "metadata": {
        "id": "6sMmh7wONAdy",
        "colab_type": "text"
      },
      "source": [
        "##Applying regularization\n"
      ]
    },
    {
      "cell_type": "markdown",
      "metadata": {
        "id": "evIPvKTbZN6P",
        "colab_type": "text"
      },
      "source": [
        "**Last Exercise ;)**\n",
        "Again experiment with different values for epochs, lr, but also for Lambda to obtain a regularized decision boundary similar to the one below.\n",
        "\n",
        "![image](https://drive.google.com/uc?id=16UVx4_2_dO2PqkJqo8hSn5IL7F0BEEZT)"
      ]
    },
    {
      "cell_type": "code",
      "metadata": {
        "id": "XBIJC3eQjkkh",
        "colab_type": "code",
        "colab": {}
      },
      "source": [
        "lr = 0.1\n",
        "epochs = 1000\n",
        "Lambda = 1"
      ],
      "execution_count": 0,
      "outputs": []
    },
    {
      "cell_type": "code",
      "metadata": {
        "id": "j0bba7viY0lm",
        "colab_type": "code",
        "colab": {}
      },
      "source": [
        "w, b, J_h = train(X_out, y, lr, epochs, Lambda)"
      ],
      "execution_count": 0,
      "outputs": []
    },
    {
      "cell_type": "code",
      "metadata": {
        "id": "_kQMXpnrCnn6",
        "colab_type": "code",
        "colab": {
          "base_uri": "https://localhost:8080/",
          "height": 34
        },
        "outputId": "edb0cf6f-f150-44c4-d743-b4a88ccd631d"
      },
      "source": [
        "y_preds_reg = predict(X_out, w, b).float()\n",
        "print(\"train accuracy: {} %\".format(100 - torch.mean(torch.abs(y_preds_reg - y)) * 100))"
      ],
      "execution_count": 832,
      "outputs": [
        {
          "output_type": "stream",
          "text": [
            "train accuracy: 74.5762710571289 %\n"
          ],
          "name": "stdout"
        }
      ]
    },
    {
      "cell_type": "code",
      "metadata": {
        "id": "2dbGx486cdg3",
        "colab_type": "code",
        "colab": {
          "base_uri": "https://localhost:8080/",
          "height": 265
        },
        "outputId": "8d1448dc-62f7-41b6-e467-b525131346af"
      },
      "source": [
        "plot_decision_boundary(X)"
      ],
      "execution_count": 833,
      "outputs": [
        {
          "output_type": "display_data",
          "data": {
            "image/png": "[encoded data removed]",
            "text/plain": [
              "<Figure size 432x288 with 1 Axes>"
            ]
          },
          "metadata": {
            "tags": []
          }
        }
      ]
    },
    {
      "cell_type": "markdown",
      "metadata": {
        "id": "QHdy2Kfqj0eX",
        "colab_type": "text"
      },
      "source": [
        "**Remark**\n",
        "In this HW, we tried to fix overfittin with regularization by judging based on visual outpusts. The purpose here was to show you the intuition behind what regularization does. In later HWs we'll do the same but will be judging based on numerical outputs. "
      ]
    },
    {
      "cell_type": "code",
      "metadata": {
        "id": "ZsPsM0eEK6XU",
        "colab_type": "code",
        "colab": {}
      },
      "source": [
        ""
      ],
      "execution_count": 0,
      "outputs": []
    }
  ]
}