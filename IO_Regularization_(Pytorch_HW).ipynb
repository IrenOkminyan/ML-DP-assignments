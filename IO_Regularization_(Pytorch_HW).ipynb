{
  "nbformat": 4,
  "nbformat_minor": 0,
  "metadata": {
    "colab": {
      "name": "Regularization (Pytorch_HW).ipynb",
      "provenance": [],
      "collapsed_sections": []
    },
    "kernelspec": {
      "name": "python3",
      "display_name": "Python 3"
    }
  },
  "cells": [
    {
      "cell_type": "markdown",
      "metadata": {
        "id": "W07LxFCtnNM_",
        "colab_type": "text"
      },
      "source": [
        "# Regularization\n",
        "\n",
        "Welcome to the assignment on Regularization. Deep Learning models have so much flexibility and capacity that **overfitting can be a serious problem**, if the training dataset is not big enough. Sure it does well on the training set, but the learned network **doesn't generalize to new examples** that it has never seen!\n",
        "\n",
        "**You will learn to:** Use regularization in your deep learning models.\n",
        "\n",
        "Let's first import the packages you are going to use."
      ]
    },
    {
      "cell_type": "code",
      "metadata": {
        "colab_type": "code",
        "id": "hIkrxcBkkd3K",
        "colab": {
          "base_uri": "https://localhost:8080/",
          "height": 122
        },
        "outputId": "879b813b-0acf-4296-9ad1-e2249b2bc80c"
      },
      "source": [
        "from google.colab import drive\n",
        "drive.mount('/content/gdrive')"
      ],
      "execution_count": 1,
      "outputs": [
        {
          "output_type": "stream",
          "text": [
            "Go to this URL in a browser: https://accounts.google.com/o/oauth2/auth?client_id=947318989803-6bn6qk8qdgf4n4g3pfee6491hc0brc4i.apps.googleusercontent.com&redirect_uri=urn%3aietf%3awg%3aoauth%3a2.0%3aoob&response_type=code&scope=email%20https%3a%2f%2fwww.googleapis.com%2fauth%2fdocs.test%20https%3a%2f%2fwww.googleapis.com%2fauth%2fdrive%20https%3a%2f%2fwww.googleapis.com%2fauth%2fdrive.photos.readonly%20https%3a%2f%2fwww.googleapis.com%2fauth%2fpeopleapi.readonly\n",
            "\n",
            "Enter your authorization code:\n",
            "··········\n",
            "Mounted at /content/gdrive\n"
          ],
          "name": "stdout"
        }
      ]
    },
    {
      "cell_type": "code",
      "metadata": {
        "colab_type": "code",
        "id": "t0rymFiLkd2x",
        "colab": {}
      },
      "source": [
        "import sys\n",
        "sys.path.append('/content/gdrive/My Drive/AI/RegNN')"
      ],
      "execution_count": 0,
      "outputs": []
    },
    {
      "cell_type": "code",
      "metadata": {
        "id": "ib27NUc1nNNC",
        "colab_type": "code",
        "colab": {}
      },
      "source": [
        "# import packages\n",
        "import torch\n",
        "import matplotlib.pyplot as plt\n",
        "from reg_utils_Pytorch_final import sigmoid, relu, plot_decision_boundary_2D, initialize_parameters, predict_dec\n",
        "from reg_utils_Pytorch_final import compute_cost, predict, forward_propagation, backward_propagation, update_parameters\n",
        "import sklearn\n",
        "import sklearn.datasets\n",
        "import scipy.io\n",
        "from testCases_Pytorch_final import *\n",
        "\n",
        "%matplotlib inline\n",
        "plt.rcParams['figure.figsize'] = (7.0, 4.0) # set default size of plots\n",
        "plt.rcParams['image.interpolation'] = 'nearest'\n",
        "plt.rcParams['image.cmap'] = 'gray'"
      ],
      "execution_count": 0,
      "outputs": []
    },
    {
      "cell_type": "code",
      "metadata": {
        "id": "6SRw0MBpRRGz",
        "colab_type": "code",
        "colab": {}
      },
      "source": [
        "torch.set_default_dtype(torch.float64)\n",
        "torch.set_printoptions(precision = 12)"
      ],
      "execution_count": 0,
      "outputs": []
    },
    {
      "cell_type": "markdown",
      "metadata": {
        "id": "jDdxFah1nNNF",
        "colab_type": "text"
      },
      "source": [
        "**Problem Statement**: You have just been hired as an AI expert by the French Football Corporation. They would like you to recommend positions where France's goal keeper should kick the ball so that the French team's players can then hit it with their head. \n",
        "\n",
        "![field_kiank.png](https://drive.google.com/uc?id=1PtW2_s6jXgO3kQK_r_TS63hbXS7ONjsK)\n",
        "\n",
        "<caption><center> <u> **Figure 1 (field_kiank.png)** </u>: **Football field**<br> The goal keeper kicks the ball in the air, the players of each team are fighting to hit the ball with their head </center></caption>\n",
        "\n",
        "\n",
        "They give you the following 2D dataset from France's past 10 games."
      ]
    },
    {
      "cell_type": "code",
      "metadata": {
        "id": "YdwjD_CrwCHQ",
        "colab_type": "code",
        "colab": {}
      },
      "source": [
        "def load_2D_dataset():\n",
        "    data = scipy.io.loadmat('/content/gdrive/My Drive/AI/RegNN/data.mat')\n",
        "    train_X = data['X'].T\n",
        "    train_Y = data['y'].T\n",
        "    test_X = data['Xval'].T\n",
        "    test_Y = data['yval'].T\n",
        "\n",
        "    plt.scatter(train_X[0, :], train_X[1, :], c=train_Y.squeeze(), s=40, cmap=plt.cm.Spectral);\n",
        "    \n",
        "    return train_X, train_Y, test_X, test_Y"
      ],
      "execution_count": 0,
      "outputs": []
    },
    {
      "cell_type": "code",
      "metadata": {
        "scrolled": false,
        "id": "sl5Hqn_LnNNF",
        "colab_type": "code",
        "colab": {
          "base_uri": "https://localhost:8080/",
          "height": 265
        },
        "outputId": "c4859572-5e18-4ebe-c743-56076174db83"
      },
      "source": [
        "train_X, train_Y, test_X, test_Y = load_2D_dataset()"
      ],
      "execution_count": 10,
      "outputs": [
        {
          "output_type": "display_data",
          "data": {
            "image/png": "[encoded data removed]",
            "text/plain": [
              "<Figure size 504x288 with 1 Axes>"
            ]
          },
          "metadata": {
            "tags": []
          }
        }
      ]
    },
    {
      "cell_type": "code",
      "metadata": {
        "id": "J3WC8iFrnIAp",
        "colab_type": "code",
        "colab": {}
      },
      "source": [
        "train_X = torch.from_numpy(train_X)\n",
        "train_Y = torch.from_numpy(train_Y).to(torch.float64)\n",
        "test_X = torch.from_numpy(test_X)\n",
        "test_Y = torch.from_numpy(test_Y).to(torch.float64)"
      ],
      "execution_count": 0,
      "outputs": []
    },
    {
      "cell_type": "markdown",
      "metadata": {
        "id": "iS964_0lnNNI",
        "colab_type": "text"
      },
      "source": [
        "Each dot corresponds to a position on the football field where a football player has hit the ball with his/her head after the French goal keeper has shot the ball from the left side of the football field.\n",
        "- If the dot is blue, it means the French player managed to hit the ball with his/her head\n",
        "- If the dot is red, it means the other team's player hit the ball with their head\n",
        "\n",
        "**Your goal**: Use a deep learning model to find the positions on the field where the goalkeeper should kick the ball."
      ]
    },
    {
      "cell_type": "markdown",
      "metadata": {
        "id": "U-MRWHxDnNNI",
        "colab_type": "text"
      },
      "source": [
        "**Analysis of the dataset**: This dataset is a little noisy, but it looks like a diagonal line separating the upper left half (blue) from the lower right half (red) would work well. \n",
        "\n",
        "You will first try a non-regularized model. Then you'll learn how to regularize it and decide which model you will choose to solve the French Football Corporation's problem. "
      ]
    },
    {
      "cell_type": "markdown",
      "metadata": {
        "id": "ENWEUOoAnNNJ",
        "colab_type": "text"
      },
      "source": [
        "## 1 - Non-regularized model\n",
        "\n",
        "You will use the following neural network (already implemented for you below). This model can be used:\n",
        "- in *regularization mode* -- by setting the `lambd` input to a non-zero value. We use \"`lambd`\" instead of \"`lambda`\" because \"`lambda`\" is a reserved keyword in Python. \n",
        "- in *dropout mode* -- by setting the `keep_prob` to a value less than one\n",
        "\n",
        "You will first try the model without any regularization. Then, you will implement:\n",
        "- *L2 regularization* -- functions: \"`compute_cost_with_regularization()`\" and \"`backward_propagation_with_regularization()`\"\n",
        "- *Dropout* -- functions: \"`forward_propagation_with_dropout()`\" and \"`backward_propagation_with_dropout()`\"\n",
        "\n",
        "In each part, you will run this model with the correct inputs so that it calls the functions you've implemented. Take a look at the code below to familiarize yourself with the model."
      ]
    },
    {
      "cell_type": "code",
      "metadata": {
        "id": "_Vjlc_UJnNNK",
        "colab_type": "code",
        "colab": {}
      },
      "source": [
        "def model(X, Y, learning_rate = 0.3, num_iterations = 30000, print_cost = True, lambd = 0, keep_prob = 1):\n",
        "    \"\"\"\n",
        "    Implements a three-layer neural network: LINEAR->RELU->LINEAR->RELU->LINEAR->SIGMOID.\n",
        "    \n",
        "    Arguments:\n",
        "    X -- input data, of shape (input size, number of examples)\n",
        "    Y -- true \"label\" vector (1 for blue dot / 0 for red dot), of shape (output size, number of examples)\n",
        "    learning_rate -- learning rate of the optimization\n",
        "    num_iterations -- number of iterations of the optimization loop\n",
        "    print_cost -- If True, print the cost every 10000 iterations\n",
        "    lambd -- regularization hyperparameter, scalar\n",
        "    keep_prob - probability of keeping a neuron active during drop-out, scalar.\n",
        "    \n",
        "    Returns:\n",
        "    parameters -- parameters learned by the model. They can then be used to predict.\n",
        "    \"\"\"\n",
        "        \n",
        "    grads = {}\n",
        "    costs = []                            # to keep track of the cost\n",
        "    m = X.shape[1]                        # number of examples\n",
        "    layers_dims = [X.shape[0], 20, 3, 1]\n",
        "    \n",
        "    # Initialize parameters dictionary.\n",
        "    parameters = initialize_parameters(layers_dims)\n",
        "\n",
        "    # Loop (gradient descent)\n",
        "\n",
        "    for i in range(0, num_iterations):\n",
        "\n",
        "        # Forward propagation: LINEAR -> RELU -> LINEAR -> RELU -> LINEAR -> SIGMOID.\n",
        "        if keep_prob == 1:\n",
        "            a3, cache = forward_propagation(X, parameters)\n",
        "        elif keep_prob < 1:\n",
        "            a3, cache = forward_propagation_with_dropout(X, parameters, keep_prob)\n",
        "        \n",
        "        # Cost function\n",
        "        if lambd == 0:\n",
        "            cost = compute_cost(a3, Y)\n",
        "        else:\n",
        "            cost = compute_cost_with_regularization(a3, Y, parameters, lambd)\n",
        "            \n",
        "        # Backward propagation.\n",
        "        assert(lambd==0 or keep_prob==1)    # it is possible to use both L2 regularization and dropout, \n",
        "                                            # but this assignment will only explore one at a time\n",
        "        if lambd == 0 and keep_prob == 1:\n",
        "            grads = backward_propagation(X, Y, cache)\n",
        "        elif lambd != 0:\n",
        "            grads = backward_propagation_with_regularization(X, Y, cache, lambd)\n",
        "        elif keep_prob < 1:\n",
        "            grads = backward_propagation_with_dropout(X, Y, cache, keep_prob)\n",
        "        \n",
        "        # Update parameters.\n",
        "        parameters = update_parameters(parameters, grads, learning_rate)\n",
        "        \n",
        "        # Print the loss every 10000 iterations\n",
        "        if print_cost and i % 10000 == 0:\n",
        "            print(\"Cost after iteration {}: {}\".format(i, cost))\n",
        "        if print_cost and i % 1000 == 0:\n",
        "            costs.append(cost)\n",
        "    \n",
        "    #plot the cost\n",
        "    plt.plot(costs)\n",
        "    plt.ylabel('cost')\n",
        "    plt.xlabel('iterations (x1,000)')\n",
        "    plt.title(\"Learning rate =\" + str(learning_rate))\n",
        "    plt.show()\n",
        "    \n",
        "    return parameters"
      ],
      "execution_count": 0,
      "outputs": []
    },
    {
      "cell_type": "markdown",
      "metadata": {
        "id": "_vVFk3mmnNNM",
        "colab_type": "text"
      },
      "source": [
        "Let's train the model without any regularization, and observe the accuracy on the train/test sets."
      ]
    },
    {
      "cell_type": "code",
      "metadata": {
        "scrolled": false,
        "id": "elFFT2OWnNNN",
        "colab_type": "code",
        "colab": {
          "base_uri": "https://localhost:8080/",
          "height": 346
        },
        "outputId": "871b15fd-3c5f-4dc3-eb76-dc6cbdf868de"
      },
      "source": [
        "parameters = model(train_X, train_Y)"
      ],
      "execution_count": 13,
      "outputs": [
        {
          "output_type": "stream",
          "text": [
            "Cost after iteration 0: 0.6557412523481\n",
            "Cost after iteration 10000: 0.1632998752572418\n",
            "Cost after iteration 20000: 0.13851642423239902\n"
          ],
          "name": "stdout"
        },
        {
          "output_type": "display_data",
          "data": {
            "image/png": "[encoded data removed]",
            "text/plain": [
              "<Figure size 504x288 with 1 Axes>"
            ]
          },
          "metadata": {
            "tags": []
          }
        }
      ]
    },
    {
      "cell_type": "markdown",
      "metadata": {
        "colab_type": "text",
        "id": "1N0tA1WCQ8ya"
      },
      "source": [
        "**Expected Output**: \n",
        "<table> \n",
        "    <tr>\n",
        "    <th>\n",
        "    Cost after iteration 0:\n",
        "    </th>\n",
        "    <td>\n",
        "    0.6557412523481\n",
        "    </td>    \n",
        "    </tr>\n",
        "    <tr>\n",
        "    <th>\n",
        "    Cost after iteration 10000:\n",
        "    </th>\n",
        "    <td>\n",
        "    0.16329987525724213\n",
        "    </td>    \n",
        "    </tr>\n",
        "    <th>\n",
        "    Cost after iteration 20000:\n",
        "    </th>\n",
        "    <td>\n",
        "    0.13851642423250654\n",
        "    </td>    \n",
        "    </tr>\n",
        "\n",
        "</table> "
      ]
    },
    {
      "cell_type": "code",
      "metadata": {
        "id": "xOX5hjJrsTSP",
        "colab_type": "code",
        "colab": {
          "base_uri": "https://localhost:8080/",
          "height": 85
        },
        "outputId": "1663338d-fa8f-454e-a7a0-14db74d728d8"
      },
      "source": [
        "print (\"On the training set:\")\n",
        "predictions_train = predict(train_X, train_Y, parameters)\n",
        "print (\"On the test set:\")\n",
        "predictions_test = predict(test_X, test_Y, parameters)"
      ],
      "execution_count": 14,
      "outputs": [
        {
          "output_type": "stream",
          "text": [
            "On the training set:\n",
            "Accuracy: tensor(0.947867298578)\n",
            "On the test set:\n",
            "Accuracy: tensor(0.915000000000)\n"
          ],
          "name": "stdout"
        }
      ]
    },
    {
      "cell_type": "markdown",
      "metadata": {
        "colab_type": "text",
        "id": "w0OG7xJIguR4"
      },
      "source": [
        "**Expected Output**: \n",
        "<table> \n",
        "    <tr>\n",
        "    <th>\n",
        "    On the training set:\n",
        "    </th>\n",
        "    <td>\n",
        "    0.947867298578\n",
        "    </td>    \n",
        "    </tr>\n",
        "    <tr>\n",
        "    <th>\n",
        "    On the test set:\n",
        "    </th>\n",
        "    <td>\n",
        "    0.915000000000\n",
        "    </td>    \n",
        "    </tr>\n",
        "\n",
        "</table> "
      ]
    },
    {
      "cell_type": "markdown",
      "metadata": {
        "id": "AINBAaLWnNNP",
        "colab_type": "text"
      },
      "source": [
        "The train accuracy is 94.8% while the test accuracy is 91.5%. This is the **baseline model** (you will observe the impact of regularization on this model). Run the following code to plot the decision boundary of your model."
      ]
    },
    {
      "cell_type": "code",
      "metadata": {
        "scrolled": false,
        "id": "CCZ8zTYunNNQ",
        "colab_type": "code",
        "colab": {
          "base_uri": "https://localhost:8080/",
          "height": 295
        },
        "outputId": "5db6a686-b861-4b53-b8e3-eff16acc913d"
      },
      "source": [
        "plt.title(\"Model without regularization\")\n",
        "axes = plt.gca()\n",
        "axes.set_xlim([-0.75,0.40])\n",
        "axes.set_ylim([-0.75,0.65])\n",
        "plot_decision_boundary_2D(lambda x: predict_dec(parameters, x), train_X, train_Y)"
      ],
      "execution_count": 15,
      "outputs": [
        {
          "output_type": "display_data",
          "data": {
            "image/png": "[encoded data removed]",
            "text/plain": [
              "<Figure size 504x288 with 1 Axes>"
            ]
          },
          "metadata": {
            "tags": []
          }
        }
      ]
    },
    {
      "cell_type": "markdown",
      "metadata": {
        "id": "Bo-VwPZOnNNS",
        "colab_type": "text"
      },
      "source": [
        "The non-regularized model is obviously overfitting the training set. It is fitting the noisy points! Lets now look at two techniques to reduce overfitting."
      ]
    },
    {
      "cell_type": "markdown",
      "metadata": {
        "id": "UVOtFJEdnNNS",
        "colab_type": "text"
      },
      "source": [
        "## 2 - L2 Regularization\n",
        "\n",
        "The standard way to avoid overfitting is called **L2 regularization**. It consists of appropriately modifying your cost function, from:\n",
        "$$J = -\\frac{1}{m} \\sum\\limits_{i = 1}^{m} \\large{(}\\small  y^{(i)}\\log\\left(a^{[L](i)}\\right) + (1-y^{(i)})\\log\\left(1- a^{[L](i)}\\right) \\large{)} \\tag{1}$$\n",
        "To:\n",
        "$$J_{regularized} = \\small \\underbrace{-\\frac{1}{m} \\sum\\limits_{i = 1}^{m} \\large{(}\\small y^{(i)}\\log\\left(a^{[L](i)}\\right) + (1-y^{(i)})\\log\\left(1- a^{[L](i)}\\right) \\large{)} }_\\text{cross-entropy cost} + \\underbrace{\\frac{1}{m} \\frac{\\lambda}{2} \\sum\\limits_l\\sum\\limits_k\\sum\\limits_j W_{k,j}^{[l]2} }_\\text{L2 regularization cost} \\tag{2}$$\n",
        "\n",
        "Let's modify your cost and observe the consequences.\n",
        "\n",
        "**Exercise**: Implement `compute_cost_with_regularization()` which computes the cost given by formula (2). To calculate $\\sum\\limits_k\\sum\\limits_j W_{k,j}^{[l]2}$  , use :\n",
        "```python\n",
        "torch.sum(torch.pow(Wl,2))\n",
        "```\n",
        "Note that you have to do this for $W^{[1]}$, $W^{[2]}$ and $W^{[3]}$, then sum the three terms and multiply by $ \\frac{1}{m} \\frac{\\lambda}{2} $."
      ]
    },
    {
      "cell_type": "code",
      "metadata": {
        "id": "zjZvjDJ6nNNT",
        "colab_type": "code",
        "colab": {}
      },
      "source": [
        "# GRADED FUNCTION: compute_cost_with_regularization\n",
        "\n",
        "def compute_cost_with_regularization(A3, Y, parameters, lambd):\n",
        "    \"\"\"\n",
        "    Implement the cost function with L2 regularization. See formula (2) above.\n",
        "    \n",
        "    Arguments:\n",
        "    A3 -- post-activation, output of forward propagation, of shape (output size, number of examples)\n",
        "    Y -- \"true\" labels vector, of shape (output size, number of examples)\n",
        "    parameters -- python dictionary containing parameters of the model\n",
        "    \n",
        "    Returns:\n",
        "    cost - value of the regularized loss function (formula (2))\n",
        "    \"\"\"\n",
        "    m = Y.shape[1]\n",
        "    W1 = parameters[\"W1\"]\n",
        "    W2 = parameters[\"W2\"]\n",
        "    W3 = parameters[\"W3\"]\n",
        "    \n",
        "    cross_entropy_cost = compute_cost(A3, Y) # This gives you the cross-entropy part of the cost\n",
        "    \n",
        "    ### START CODE HERE ### (approx. 1 line)\n",
        "    L2_regularization_cost = lambd * ((W1**2).sum() + (W2**2).sum() + (W3**2).sum())/(2 * m)\n",
        "    ### END CODER HERE ###\n",
        "    \n",
        "    cost = cross_entropy_cost + L2_regularization_cost\n",
        "    \n",
        "    return cost"
      ],
      "execution_count": 0,
      "outputs": []
    },
    {
      "cell_type": "code",
      "metadata": {
        "id": "SLpdC5BBnNNV",
        "colab_type": "code",
        "colab": {}
      },
      "source": [
        "A3, Y_assess, parameters = compute_cost_with_regularization_test_case()"
      ],
      "execution_count": 0,
      "outputs": []
    },
    {
      "cell_type": "code",
      "metadata": {
        "id": "m38fiKV5vAzq",
        "colab_type": "code",
        "colab": {
          "base_uri": "https://localhost:8080/",
          "height": 34
        },
        "outputId": "558d8c80-242b-4fbb-87db-e2a6ce367707"
      },
      "source": [
        "print(\"cost = \" + str(compute_cost_with_regularization(A3, Y_assess, parameters, lambd = 0.1)))"
      ],
      "execution_count": 24,
      "outputs": [
        {
          "output_type": "stream",
          "text": [
            "cost = tensor(1.786485945159)\n"
          ],
          "name": "stdout"
        }
      ]
    },
    {
      "cell_type": "markdown",
      "metadata": {
        "id": "C1_heY07nNNX",
        "colab_type": "text"
      },
      "source": [
        "**Expected Output**: \n",
        "\n",
        "<table> \n",
        "    <tr>\n",
        "    <td>\n",
        "    **cost**\n",
        "    </td>\n",
        "        <td>\n",
        "    1.78648594516\n",
        "    </td>    \n",
        "    </tr>\n",
        "\n",
        "</table> "
      ]
    },
    {
      "cell_type": "markdown",
      "metadata": {
        "id": "Utf3OV12nNNY",
        "colab_type": "text"
      },
      "source": [
        "Of course, because you changed the cost, you have to change backward propagation as well! All the gradients have to be computed with respect to this new cost. \n",
        "\n",
        "**Exercise**: Implement the changes needed in backward propagation to take into account regularization. The changes only concern dW1, dW2 and dW3. For each, you have to add the regularization term's gradient ($\\frac{d}{dW} ( \\frac{1}{2}\\frac{\\lambda}{m}  W^2) = \\frac{\\lambda}{m} W$)."
      ]
    },
    {
      "cell_type": "code",
      "metadata": {
        "id": "u3arHrjbnNNZ",
        "colab_type": "code",
        "colab": {}
      },
      "source": [
        "# GRADED FUNCTION: backward_propagation_with_regularization\n",
        "\n",
        "def backward_propagation_with_regularization(X, Y, cache, lambd):\n",
        "    \"\"\"\n",
        "    Implements the backward propagation of our baseline model to which we added an L2 regularization.\n",
        "    \n",
        "    Arguments:\n",
        "    X -- input dataset, of shape (input size, number of examples)\n",
        "    Y -- \"true\" labels vector, of shape (output size, number of examples)\n",
        "    cache -- cache output from forward_propagation()\n",
        "    lambd -- regularization hyperparameter, scalar\n",
        "    \n",
        "    Returns:\n",
        "    gradients -- A dictionary with the gradients with respect to each parameter, activation and pre-activation variables\n",
        "    \"\"\"\n",
        "    \n",
        "    m = X.shape[1]\n",
        "    (Z1, A1, W1, b1, Z2, A2, W2, b2, Z3, A3, W3, b3) = cache\n",
        "    \n",
        "    dZ3 = A3 - Y\n",
        "    \n",
        "    ### START CODE HERE ### (approx. 1 line)\n",
        "    dW3 = dZ3@A2.T/m + lambd*W3/m\n",
        "    ### END CODE HERE ###\n",
        "    db3 = torch.sum(dZ3, axis=1, keepdims = True)/m\n",
        "    \n",
        "    dA2 = W3.T@dZ3\n",
        "    dZ2 = torch.mul(dA2, (A2 > 0).to(torch.float64))\n",
        "    ### START CODE HERE ### (approx. 1 line)\n",
        "    dW2 = dZ2@A1.T/m + lambd*W2/m\n",
        "    ### END CODE HERE ###\n",
        "    db2 = torch.sum(dZ2, axis=1, keepdims = True)/m\n",
        "    \n",
        "    dA1 = W2.T@dZ2\n",
        "    dZ1 = torch.mul(dA1, (A1 > 0).to(torch.float64))\n",
        "    ### START CODE HERE ### (approx. 1 line)\n",
        "    dW1 = dZ1@X.T/m + lambd*W1/m\n",
        "    ### END CODE HERE ###\n",
        "    db1 = torch.sum(dZ1, axis=1, keepdims = True)/m\n",
        "    \n",
        "    gradients = {\"dZ3\": dZ3, \"dW3\": dW3, \"db3\": db3,\"dA2\": dA2,\n",
        "                 \"dZ2\": dZ2, \"dW2\": dW2, \"db2\": db2, \"dA1\": dA1, \n",
        "                 \"dZ1\": dZ1, \"dW1\": dW1, \"db1\": db1}\n",
        "    \n",
        "    return gradients"
      ],
      "execution_count": 0,
      "outputs": []
    },
    {
      "cell_type": "code",
      "metadata": {
        "id": "UX8JKaiEnNNb",
        "colab_type": "code",
        "colab": {}
      },
      "source": [
        "X_assess, Y_assess, cache = backward_propagation_with_regularization_test_case()"
      ],
      "execution_count": 0,
      "outputs": []
    },
    {
      "cell_type": "code",
      "metadata": {
        "id": "jqmoi0kx3BL-",
        "colab_type": "code",
        "colab": {
          "base_uri": "https://localhost:8080/",
          "height": 170
        },
        "outputId": "afb024c6-cc95-45da-ccb7-b2f7de13a02d"
      },
      "source": [
        "grads = backward_propagation_with_regularization(X_assess, Y_assess, cache, lambd = 0.7)\n",
        "print (\"dW1 = \\n\"+ str(grads[\"dW1\"]))\n",
        "print (\"dW2 = \\n\"+ str(grads[\"dW2\"]))\n",
        "print (\"dW3 = \\n\"+ str(grads[\"dW3\"]))"
      ],
      "execution_count": 27,
      "outputs": [
        {
          "output_type": "stream",
          "text": [
            "dW1 = \n",
            "tensor([[-0.256046458323,  0.122988269171, -0.282971287146],\n",
            "        [-0.177063025831,  0.345360943396, -0.441057102373]])\n",
            "dW2 = \n",
            "tensor([[ 0.792764862343,  0.851339183815],\n",
            "        [-0.095721900400, -0.017204632200],\n",
            "        [-0.131007720200, -0.037504331200]])\n",
            "dW3 = \n",
            "tensor([[-1.776913472043, -0.118328789600, -0.093974458200]])\n"
          ],
          "name": "stdout"
        }
      ]
    },
    {
      "cell_type": "markdown",
      "metadata": {
        "id": "qJx9C5GfnNNd",
        "colab_type": "text"
      },
      "source": [
        "**Expected Output**:\n",
        "\n",
        "```\n",
        "dW1 = \n",
        "[[-0.25604646  0.12298827 -0.28297129]\n",
        " [-0.17706303  0.34536094 -0.4410571 ]]\n",
        "dW2 = \n",
        "[[ 0.79276486  0.85133918]\n",
        " [-0.0957219  -0.01720463]\n",
        " [-0.13100772 -0.03750433]]\n",
        "dW3 = \n",
        "[[-1.77691347 -0.11832879 -0.09397446]]\n",
        "```"
      ]
    },
    {
      "cell_type": "markdown",
      "metadata": {
        "id": "b-978fLpnNNe",
        "colab_type": "text"
      },
      "source": [
        "Let's now run the model with L2 regularization $(\\lambda = 0.7)$. The `model()` function will call: \n",
        "- `compute_cost_with_regularization` instead of `compute_cost`\n",
        "- `backward_propagation_with_regularization` instead of `backward_propagation`"
      ]
    },
    {
      "cell_type": "code",
      "metadata": {
        "scrolled": false,
        "id": "OGTPwfYEnNNe",
        "colab_type": "code",
        "colab": {
          "base_uri": "https://localhost:8080/",
          "height": 363
        },
        "outputId": "6ac8950f-5fe1-4a0d-cddd-f4e71ea82fd6"
      },
      "source": [
        "parameters = model(train_X, train_Y, lambd = 0.7)\n",
        "print (\"On the train set:\")"
      ],
      "execution_count": 28,
      "outputs": [
        {
          "output_type": "stream",
          "text": [
            "Cost after iteration 0: 0.6974484493131262\n",
            "Cost after iteration 10000: 0.2684918873282239\n",
            "Cost after iteration 20000: 0.26809163371273004\n"
          ],
          "name": "stdout"
        },
        {
          "output_type": "display_data",
          "data": {
            "image/png": "[encoded data removed]",
            "text/plain": [
              "<Figure size 504x288 with 1 Axes>"
            ]
          },
          "metadata": {
            "tags": []
          }
        },
        {
          "output_type": "stream",
          "text": [
            "On the train set:\n"
          ],
          "name": "stdout"
        }
      ]
    },
    {
      "cell_type": "markdown",
      "metadata": {
        "colab_type": "text",
        "id": "gWp85opjR23b"
      },
      "source": [
        "**Expected Output**: \n",
        "<table> \n",
        "    <tr>\n",
        "    <th>\n",
        "    Cost after iteration 0:\n",
        "    </th>\n",
        "    <td>\n",
        "    0.6974484493131262\n",
        "    </td>    \n",
        "    </tr>\n",
        "    <tr>\n",
        "    <th>\n",
        "    Cost after iteration 10000:\n",
        "    </th>\n",
        "    <td>\n",
        "    0.2684918873282239\n",
        "    </td>    \n",
        "    </tr>\n",
        "    <th>\n",
        "    Cost after iteration 20000:\n",
        "    </th>\n",
        "    <td>\n",
        "    0.26809163371273004\n",
        "    </td>    \n",
        "    </tr>\n",
        "\n",
        "</table> "
      ]
    },
    {
      "cell_type": "code",
      "metadata": {
        "id": "aAMYBcMERwCd",
        "colab_type": "code",
        "colab": {
          "base_uri": "https://localhost:8080/",
          "height": 68
        },
        "outputId": "201ec40e-98c5-4420-e0ff-59ea59596556"
      },
      "source": [
        "predictions_train = predict(train_X, train_Y, parameters)\n",
        "print (\"On the test set:\")\n",
        "predictions_test = predict(test_X, test_Y, parameters)"
      ],
      "execution_count": 29,
      "outputs": [
        {
          "output_type": "stream",
          "text": [
            "Accuracy: tensor(0.938388625592)\n",
            "On the test set:\n",
            "Accuracy: tensor(0.930000000000)\n"
          ],
          "name": "stdout"
        }
      ]
    },
    {
      "cell_type": "markdown",
      "metadata": {
        "colab_type": "text",
        "id": "hX0qVUEvqB91"
      },
      "source": [
        "**Expected Output**: \n",
        "<table> \n",
        "    <tr>\n",
        "    <th>\n",
        "    On the training set:\n",
        "    </th>\n",
        "    <td>\n",
        "    0.938388625592\n",
        "    </td>    \n",
        "    </tr>\n",
        "    <tr>\n",
        "    <th>\n",
        "    On the test set:\n",
        "    </th>\n",
        "    <td>\n",
        "    0.930000000000\n",
        "    </td>    \n",
        "    </tr>\n",
        "\n",
        "</table> "
      ]
    },
    {
      "cell_type": "markdown",
      "metadata": {
        "id": "SobV28rRnNNg",
        "colab_type": "text"
      },
      "source": [
        "Congrats, the test set accuracy increased to 93%. You have saved the French football team!\n",
        "\n",
        "You are not overfitting the training data anymore. Let's plot the decision boundary."
      ]
    },
    {
      "cell_type": "code",
      "metadata": {
        "id": "SRLaj1DhnNNh",
        "colab_type": "code",
        "colab": {
          "base_uri": "https://localhost:8080/",
          "height": 295
        },
        "outputId": "def147e2-34bc-48f4-a823-0031fb5b52cf"
      },
      "source": [
        "plt.title(\"Model with L2-regularization\")\n",
        "axes = plt.gca()\n",
        "axes.set_xlim([-0.75,0.40])\n",
        "axes.set_ylim([-0.75,0.65])\n",
        "plot_decision_boundary_2D(lambda x: predict_dec(parameters, x), train_X, train_Y)"
      ],
      "execution_count": 30,
      "outputs": [
        {
          "output_type": "display_data",
          "data": {
            "image/png": "[encoded data removed]",
            "text/plain": [
              "<Figure size 504x288 with 1 Axes>"
            ]
          },
          "metadata": {
            "tags": []
          }
        }
      ]
    },
    {
      "cell_type": "markdown",
      "metadata": {
        "id": "To6gHGcnnNNj",
        "colab_type": "text"
      },
      "source": [
        "**Observations**:\n",
        "- The value of $\\lambda$ is a hyperparameter that you can tune using a dev set.\n",
        "- L2 regularization makes your decision boundary smoother. If $\\lambda$ is too large, it is also possible to \"oversmooth\", resulting in a model with high bias.\n",
        "\n",
        "**What is L2-regularization actually doing?**:\n",
        "\n",
        "L2-regularization relies on the assumption that a model with small weights is simpler than a model with large weights. Thus, by penalizing the square values of the weights in the cost function you drive all the weights to smaller values. It becomes too costly for the cost to have large weights! This leads to a smoother model in which the output changes more slowly as the input changes. \n",
        "\n",
        "**What you should remember** -- the implications of L2-regularization on:\n",
        "- The cost computation:\n",
        "    - A regularization term is added to the cost\n",
        "- The backpropagation function:\n",
        "    - There are extra terms in the gradients with respect to weight matrices\n",
        "- Weights end up smaller (\"weight decay\"): \n",
        "    - Weights are pushed to smaller values."
      ]
    },
    {
      "cell_type": "markdown",
      "metadata": {
        "id": "mR5WrU0TnNNk",
        "colab_type": "text"
      },
      "source": [
        "## 3 - Dropout\n",
        "\n",
        "Finally, **dropout** is a widely used regularization technique that is specific to deep learning. \n",
        "**It randomly shuts down some neurons in each iteration.** Watch these two videos to see what this means!\n",
        "\n",
        "<!--\n",
        "To understand drop-out, consider this conversation with a friend:\n",
        "- Friend: \"Why do you need all these neurons to train your network and classify images?\". \n",
        "- You: \"Because each neuron contains a weight and can learn specific features/details/shape of an image. The more neurons I have, the more featurse my model learns!\"\n",
        "- Friend: \"I see, but are you sure that your neurons are learning different features and not all the same features?\"\n",
        "- You: \"Good point... Neurons in the same layer actually don't talk to each other. It should be definitly possible that they learn the same image features/shapes/forms/details... which would be redundant. There should be a solution.\"\n",
        "!--> \n",
        "\n",
        "\n",
        "<center>\n",
        "<video width=\"620\" height=\"440\" src=\"images/dropout1_kiank.mp4\" type=\"video/mp4\" controls>\n",
        "</video>\n",
        "</center>\n",
        "<br>\n",
        "<caption><center> <u> Figure 2 </u>: Drop-out on the second hidden layer. <br> At each iteration, you shut down (= set to zero) each neuron of a layer with probability $1 - keep\\_prob$ or keep it with probability $keep\\_prob$ (50% here). The dropped neurons don't contribute to the training in both the forward and backward propagations of the iteration. </center></caption>\n",
        "\n",
        "<center>\n",
        "<video width=\"620\" height=\"440\" src=\"images/dropout2_kiank.mp4\" type=\"video/mp4\" controls>\n",
        "</video>\n",
        "</center>\n",
        "\n",
        "<caption><center> <u> Figure 3 </u>: Drop-out on the first and third hidden layers. <br> $1^{st}$ layer: we shut down on average 40% of the neurons.  $3^{rd}$ layer: we shut down on average 20% of the neurons. </center></caption>\n",
        "\n",
        "\n",
        "When you shut some neurons down, you actually modify your model. The idea behind drop-out is that at each iteration, you train a different model that uses only a subset of your neurons. With dropout, your neurons thus become less sensitive to the activation of one other specific neuron, because that other neuron might be shut down at any time. \n",
        "\n",
        "### 3.1 - Forward propagation with dropout\n",
        "\n",
        "**Exercise**: Implement the forward propagation with dropout. You are using a 3 layer neural network, and will add dropout to the first and second hidden layers. We will not apply dropout to the input layer or output layer. \n",
        "\n",
        "**Instructions**:\n",
        "You would like to shut down some neurons in the first and second layers. To do that, you are going to carry out 4 Steps:\n",
        "1. In lecture, we dicussed creating a variable $d^{[1]}$ with the same shape as $a^{[1]}$ using `torch.rand()` to randomly get numbers between 0 and 1. Here, you will use a vectorized implementation, so create a random matrix $D^{[1]} = [d^{[1](1)} d^{[1](2)} ... d^{[1](m)}] $ of the same dimension as $A^{[1]}$.\n",
        "2. Set each entry of $D^{[1]}$ to be 1 with probability (`keep_prob`), and 0 otherwise.\n",
        "\n",
        "**Hint:** Let's say that keep_prob = 0.8, which means that we want to keep about 80% of the neurons and drop out about 20% of them.  We want to generate a vector that has 1's and 0's, where about 80% of them are 1 and about 20% are 0.\n",
        "This python statement:  \n",
        "`X = (X < keep_prob).to(torch.int64)`  \n",
        "\n",
        "is conceptually the same as this if-else statement (for the simple case of a one-dimensional array) :\n",
        "\n",
        "```\n",
        "for i,v in enumerate(x):\n",
        "    if v < keep_prob:\n",
        "        x[i] = 1\n",
        "    else: # v >= keep_prob\n",
        "        x[i] = 0\n",
        "```\n",
        "Note that the `X = (X < keep_prob).to(torch.int64)` works with multi-dimensional arrays, and the resulting output preserves the dimensions of the input array.\n",
        "\n",
        "Also note that without using `.to(torch.int64)`, the result is an array of booleans `True` and `False`, which Python automatically converts to 1 and 0 if we multiply it with numbers.  (However, it's better practice to convert data into the data type that we intend, so try using `.to(torch.int64)`.)\n",
        "\n",
        "3. Set $A^{[1]}$ to $A^{[1]} * D^{[1]}$. (You are shutting down some neurons). You can think of $D^{[1]}$ as a mask, so that when it is multiplied with another matrix, it shuts down some of the values.\n",
        "4. Divide $A^{[1]}$ by `keep_prob`. By doing this you are assuring that the result of the cost will still have the same expected value as without drop-out. (This technique is also called inverted dropout.)"
      ]
    },
    {
      "cell_type": "code",
      "metadata": {
        "id": "eKeoKid9nNNl",
        "colab_type": "code",
        "colab": {}
      },
      "source": [
        "# GRADED FUNCTION: forward_propagation_with_dropout\n",
        "\n",
        "def forward_propagation_with_dropout(X, parameters, keep_prob = 0.5):\n",
        "    \"\"\"\n",
        "    Implements the forward propagation: LINEAR -> RELU + DROPOUT -> LINEAR -> RELU + DROPOUT -> LINEAR -> SIGMOID.\n",
        "    \n",
        "    Arguments:\n",
        "    X -- input dataset, of shape (2, number of examples)\n",
        "    parameters -- python dictionary containing your parameters \"W1\", \"b1\", \"W2\", \"b2\", \"W3\", \"b3\":\n",
        "                    W1 -- weight matrix of shape (20, 2)\n",
        "                    b1 -- bias vector of shape (20, 1)\n",
        "                    W2 -- weight matrix of shape (3, 20)\n",
        "                    b2 -- bias vector of shape (3, 1)\n",
        "                    W3 -- weight matrix of shape (1, 3)\n",
        "                    b3 -- bias vector of shape (1, 1)\n",
        "    keep_prob - probability of keeping a neuron active during drop-out, scalar\n",
        "    \n",
        "    Returns:\n",
        "    A3 -- last activation value, output of the forward propagation, of shape (1,1)\n",
        "    cache -- tuple, information stored for computing the backward propagation\n",
        "    \"\"\"\n",
        "    \n",
        "    torch.manual_seed(3)\n",
        "    \n",
        "    # retrieve parameters\n",
        "    W1 = parameters[\"W1\"]\n",
        "    b1 = parameters[\"b1\"]\n",
        "    W2 = parameters[\"W2\"]\n",
        "    b2 = parameters[\"b2\"]\n",
        "    W3 = parameters[\"W3\"]\n",
        "    b3 = parameters[\"b3\"]\n",
        "    \n",
        "    # LINEAR -> RELU -> LINEAR -> RELU -> LINEAR -> SIGMOID\n",
        "    Z1 = W1@X + b1\n",
        "    A1 = relu(Z1)\n",
        "    ### START CODE HERE ### (approx. 4 lines)         # Steps 1-4 below correspond to the Steps 1-4 described above.          \n",
        "    D1 = torch.rand(A1.shape)                                         # Step 1: initialize matrix D1 = torch.rand(..., ...)\n",
        "    D1 = (D1 < keep_prob).to(torch.int64)                                         # Step 2: convert entries of D1 to 0 or 1 (using keep_prob as the threshold)\n",
        "    A1 = A1* D1                                        # Step 3: shut down some neurons of A1\n",
        "    A1 = A1/keep_prob                                         # Step 4: scale the value of neurons that haven't been shut down\n",
        "    ### END CODE HERE ###\n",
        "    Z2 = W2@A1 + b2\n",
        "    A2 = relu(Z2)\n",
        "    ### START CODE HERE ### (approx. 4 lines)\n",
        "    D2 = torch.rand(A2.shape)                                         # Step 1: initialize matrix D2 = torch.rand(..., ...)\n",
        "    D2 = (D2 < keep_prob).to(torch.int64)                                         # Step 2: convert entries of D2 to 0 or 1 (using keep_prob as the threshold)\n",
        "    A2 = A2* D2                                         # Step 3: shut down some neurons of A2\n",
        "    A2 = A2/keep_prob                                         # Step 4: scale the value of neurons that haven't been shut down\n",
        "    ### END CODE HERE ###\n",
        "    Z3 = W3@A2 + b3\n",
        "    A3 = sigmoid(Z3)\n",
        "    \n",
        "    cache = (Z1, D1, A1, W1, b1, Z2, D2, A2, W2, b2, Z3, A3, W3, b3)\n",
        "    \n",
        "    return A3, cache"
      ],
      "execution_count": 0,
      "outputs": []
    },
    {
      "cell_type": "code",
      "metadata": {
        "id": "FMSYFlGBnNNn",
        "colab_type": "code",
        "colab": {}
      },
      "source": [
        "X_assess, parameters = forward_propagation_with_dropout_test_case()"
      ],
      "execution_count": 0,
      "outputs": []
    },
    {
      "cell_type": "code",
      "metadata": {
        "id": "7VsAw8OE5bzK",
        "colab_type": "code",
        "colab": {
          "base_uri": "https://localhost:8080/",
          "height": 51
        },
        "outputId": "d7c52bf5-0bfa-48db-a4be-7724db5155b9"
      },
      "source": [
        "A3, cache = forward_propagation_with_dropout(X_assess, parameters, keep_prob = 0.7)\n",
        "print (\"A3 = \" + str(A3))"
      ],
      "execution_count": 33,
      "outputs": [
        {
          "output_type": "stream",
          "text": [
            "A3 = tensor([[3.697472061782e-01, 2.938155846564e-04, 1.777018442203e-01,\n",
            "         1.446892814786e-02, 4.968338925884e-01]])\n"
          ],
          "name": "stdout"
        }
      ]
    },
    {
      "cell_type": "markdown",
      "metadata": {
        "id": "9I7xzFh5nNNp",
        "colab_type": "text"
      },
      "source": [
        "**Expected Output**: \n",
        "\n",
        "<table> \n",
        "    <tr>\n",
        "    <td>\n",
        "    **A3**\n",
        "    </td>\n",
        "        <td>\n",
        "    A3 = tensor([[3.697472061782e-01, 2.938155846564e-04, 1.777018442203e-01, 1.446892814786e-02, 4.968338925884e-01]])\n",
        "    </td>    \n",
        "    </tr>\n",
        "\n",
        "</table> "
      ]
    },
    {
      "cell_type": "markdown",
      "metadata": {
        "id": "kSFpWTW3nNNp",
        "colab_type": "text"
      },
      "source": [
        "### 3.2 - Backward propagation with dropout\n",
        "\n",
        "**Exercise**: Implement the backward propagation with dropout. As before, you are training a 3 layer network. Add dropout to the first and second hidden layers, using the masks $D^{[1]}$ and $D^{[2]}$ stored in the cache. \n",
        "\n",
        "**Instruction**:\n",
        "Backpropagation with dropout is actually quite easy. You will have to carry out 2 Steps:\n",
        "1. You had previously shut down some neurons during forward propagation, by applying a mask $D^{[1]}$ to `A1`. In backpropagation, you will have to shut down the same neurons, by reapplying the same mask $D^{[1]}$ to `dA1`. \n",
        "2. During forward propagation, you had divided `A1` by `keep_prob`. In backpropagation, you'll therefore have to divide `dA1` by `keep_prob` again (the calculus interpretation is that if $A^{[1]}$ is scaled by `keep_prob`, then its derivative $dA^{[1]}$ is also scaled by the same `keep_prob`).\n"
      ]
    },
    {
      "cell_type": "code",
      "metadata": {
        "id": "Meg-RHSRnNNq",
        "colab_type": "code",
        "colab": {}
      },
      "source": [
        "# GRADED FUNCTION: backward_propagation_with_dropout\n",
        "\n",
        "def backward_propagation_with_dropout(X, Y, cache, keep_prob):\n",
        "    \"\"\"\n",
        "    Implements the backward propagation of our baseline model to which we added dropout.\n",
        "    \n",
        "    Arguments:\n",
        "    X -- input dataset, of shape (2, number of examples)\n",
        "    Y -- \"true\" labels vector, of shape (output size, number of examples)\n",
        "    cache -- cache output from forward_propagation_with_dropout()\n",
        "    keep_prob - probability of keeping a neuron active during drop-out, scalar\n",
        "    \n",
        "    Returns:\n",
        "    gradients -- A dictionary with the gradients with respect to each parameter, activation and pre-activation variables\n",
        "    \"\"\"\n",
        "    \n",
        "    m = X.shape[1]\n",
        "    (Z1, D1, A1, W1, b1, Z2, D2, A2, W2, b2, Z3, A3, W3, b3) = cache\n",
        "    \n",
        "    dZ3 = A3 - Y\n",
        "    dW3 = dZ3@A2.T/m\n",
        "    db3 = torch.sum(dZ3, axis=1, keepdims = True)/m\n",
        "    dA2 = W3.T@dZ3\n",
        "    ### START CODE HERE ### (≈ 2 lines of code)\n",
        "    dA2 = dA2 * D2                          # Step 1: Apply mask D2 to shut down the same neurons as during the forward propagation\n",
        "    dA2 = dA2/keep_prob                            # Step 2: Scale the value of neurons that haven't been shut down\n",
        "    ### END CODE HERE ###\n",
        "    dZ2 = torch.mul(dA2, (A2 > 0).to(torch.int64))\n",
        "    dW2 = dZ2@A1.T/m\n",
        "    db2 = torch.sum(dZ2, axis=1, keepdims = True)/m\n",
        "    \n",
        "    dA1 = W2.T@dZ2\n",
        "    ### START CODE HERE ### (≈ 2 lines of code)\n",
        "    dA1 = dA1 * D1                           # Step 1: Apply mask D1 to shut down the same neurons as during the forward propagation\n",
        "    dA1 = dA1/keep_prob                               # Step 2: Scale the value of neurons that haven't been shut down\n",
        "    ### END CODE HERE ###\n",
        "    dZ1 = torch.mul(dA1, (A1 > 0).to(torch.int64))\n",
        "    dW1 = dZ1@X.T/m\n",
        "    db1 = torch.sum(dZ1, axis=1, keepdims = True)/m\n",
        "    \n",
        "    gradients = {\"dZ3\": dZ3, \"dW3\": dW3, \"db3\": db3,\"dA2\": dA2,\n",
        "                 \"dZ2\": dZ2, \"dW2\": dW2, \"db2\": db2, \"dA1\": dA1, \n",
        "                 \"dZ1\": dZ1, \"dW1\": dW1, \"db1\": db1}\n",
        "    \n",
        "    return gradients"
      ],
      "execution_count": 0,
      "outputs": []
    },
    {
      "cell_type": "code",
      "metadata": {
        "id": "TzLJK9RenNNs",
        "colab_type": "code",
        "colab": {}
      },
      "source": [
        "X_assess, Y_assess, cache = backward_propagation_with_dropout_test_case()"
      ],
      "execution_count": 0,
      "outputs": []
    },
    {
      "cell_type": "code",
      "metadata": {
        "id": "YfKObz3m6IZ0",
        "colab_type": "code",
        "colab": {
          "base_uri": "https://localhost:8080/",
          "height": 221
        },
        "outputId": "e6fe51ca-ef18-4c92-f683-8d45291fbbe6"
      },
      "source": [
        "gradients = backward_propagation_with_dropout(X_assess, Y_assess, cache, keep_prob = 0.8)\n",
        "\n",
        "print (\"dA1 = \\n\" + str(gradients[\"dA1\"]))\n",
        "print (\"dA2 = \\n\" + str(gradients[\"dA2\"]))"
      ],
      "execution_count": 39,
      "outputs": [
        {
          "output_type": "stream",
          "text": [
            "dA1 = \n",
            "tensor([[ 0.365444386363,  0.000000000000, -0.001882334950,  0.000000000000,\n",
            "         -0.174087476688],\n",
            "        [ 0.655157130426,  0.000000000000, -0.003374590527,  0.000000000000,\n",
            "         -0.000000000000]])\n",
            "dA2 = \n",
            "tensor([[ 0.581808561447,  0.000000000000, -0.002996785914,  0.000000000000,\n",
            "         -0.277157313553],\n",
            "        [ 0.000000000000,  0.531598542536, -0.000000000000,  0.531598542536,\n",
            "         -0.340896727391],\n",
            "        [ 0.000000000000,  0.000000000000, -0.002927329545,  0.000000000000,\n",
            "         -0.000000000000]])\n"
          ],
          "name": "stdout"
        }
      ]
    },
    {
      "cell_type": "markdown",
      "metadata": {
        "id": "GXQr6fy4nNNw",
        "colab_type": "text"
      },
      "source": [
        "**Expected Output**: \n",
        "\n",
        "```\n",
        "dA1 = \n",
        "[[ 0.36544439  0.         -0.00188233  0.         -0.17408748]\n",
        " [ 0.65515713  0.         -0.00337459  0.         -0.        ]]\n",
        "dA2 = \n",
        "[[ 0.58180856  0.         -0.00299679  0.         -0.27715731]\n",
        " [ 0.          0.53159854 -0.          0.53159854 -0.34089673]\n",
        " [ 0.          0.         -0.00292733  0.         -0.        ]]\n",
        "```"
      ]
    },
    {
      "cell_type": "markdown",
      "metadata": {
        "id": "zVXJCNjdnNNw",
        "colab_type": "text"
      },
      "source": [
        "Let's now run the model with dropout (`keep_prob = 0.88`). It means at every iteration you shut down each neurons of layer 1 and 2 with 12% probability. The function `model()` will now call:\n",
        "- `forward_propagation_with_dropout` instead of `forward_propagation`.\n",
        "- `backward_propagation_with_dropout` instead of `backward_propagation`."
      ]
    },
    {
      "cell_type": "code",
      "metadata": {
        "id": "ZxM5nsf6nNNx",
        "colab_type": "code",
        "colab": {
          "base_uri": "https://localhost:8080/",
          "height": 346
        },
        "outputId": "c327095f-e12b-4427-cb9e-622bf6d6f6ff"
      },
      "source": [
        "parameters = model(train_X, train_Y, keep_prob = 0.88)"
      ],
      "execution_count": 40,
      "outputs": [
        {
          "output_type": "stream",
          "text": [
            "Cost after iteration 0: 0.6546756314718128\n",
            "Cost after iteration 10000: 0.06294518620423846\n",
            "Cost after iteration 20000: 0.061600004965592\n"
          ],
          "name": "stdout"
        },
        {
          "output_type": "display_data",
          "data": {
            "image/png": "[encoded data removed]",
            "text/plain": [
              "<Figure size 504x288 with 1 Axes>"
            ]
          },
          "metadata": {
            "tags": []
          }
        }
      ]
    },
    {
      "cell_type": "markdown",
      "metadata": {
        "colab_type": "text",
        "id": "RSSvXCgOS6tc"
      },
      "source": [
        "**Expected Output**: \n",
        "<table> \n",
        "    <tr>\n",
        "    <th>\n",
        "    Cost after iteration 0:\n",
        "    </th>\n",
        "    <td>\n",
        "    0.6546756314718128\n",
        "    </td>    \n",
        "    </tr>\n",
        "    <tr>\n",
        "    <th>\n",
        "    Cost after iteration 10000:\n",
        "    </th>\n",
        "    <td>\n",
        "    0.06294518620423846\n",
        "    </td>    \n",
        "    </tr>\n",
        "    <th>\n",
        "    Cost after iteration 20000:\n",
        "    </th>\n",
        "    <td>\n",
        "    0.061600004965592016\n",
        "    </td>    \n",
        "    </tr>\n",
        "\n",
        "</table> "
      ]
    },
    {
      "cell_type": "code",
      "metadata": {
        "id": "TOe6bbDbSwmD",
        "colab_type": "code",
        "colab": {
          "base_uri": "https://localhost:8080/",
          "height": 85
        },
        "outputId": "04d90037-3e21-4760-f905-50a91582ce5c"
      },
      "source": [
        "print (\"On the train set:\")\n",
        "predictions_train = predict(train_X, train_Y, parameters)\n",
        "print (\"On the test set:\")\n",
        "predictions_test = predict(test_X, test_Y, parameters)"
      ],
      "execution_count": 41,
      "outputs": [
        {
          "output_type": "stream",
          "text": [
            "On the train set:\n",
            "Accuracy: tensor(0.928909952607)\n",
            "On the test set:\n",
            "Accuracy: tensor(0.945000000000)\n"
          ],
          "name": "stdout"
        }
      ]
    },
    {
      "cell_type": "markdown",
      "metadata": {
        "colab_type": "text",
        "id": "UUE2hAxeqPa9"
      },
      "source": [
        "**Expected Output**: \n",
        "<table> \n",
        "    <tr>\n",
        "    <th>\n",
        "    On the training set:\n",
        "    </th>\n",
        "    <td>\n",
        "    0.928909952607\n",
        "    </td>    \n",
        "    </tr>\n",
        "    <tr>\n",
        "    <th>\n",
        "    On the test set:\n",
        "    </th>\n",
        "    <td>\n",
        "    0.945000000000\n",
        "    </td>    \n",
        "    </tr>\n",
        "\n",
        "</table> "
      ]
    },
    {
      "cell_type": "markdown",
      "metadata": {
        "id": "86C5nkGXnNN0",
        "colab_type": "text"
      },
      "source": [
        "Dropout works great! The test accuracy has increased again (to 94.5%)! Your model is not overfitting the training set and does a great job on the test set. The French football team will be forever grateful to you! \n",
        "\n",
        "Run the code below to plot the decision boundary."
      ]
    },
    {
      "cell_type": "code",
      "metadata": {
        "id": "1t59F5yvnNN0",
        "colab_type": "code",
        "colab": {
          "base_uri": "https://localhost:8080/",
          "height": 295
        },
        "outputId": "ffa4e4ba-8cd5-4471-a9d9-79f0db05fc39"
      },
      "source": [
        "plt.title(\"Model with dropout\")\n",
        "axes = plt.gca()\n",
        "axes.set_xlim([-0.75,0.40])\n",
        "axes.set_ylim([-0.75,0.65])\n",
        "plot_decision_boundary_2D(lambda x: predict_dec(parameters, x), train_X, train_Y)"
      ],
      "execution_count": 42,
      "outputs": [
        {
          "output_type": "display_data",
          "data": {
            "image/png": "[encoded data removed]",
            "text/plain": [
              "<Figure size 504x288 with 1 Axes>"
            ]
          },
          "metadata": {
            "tags": []
          }
        }
      ]
    },
    {
      "cell_type": "markdown",
      "metadata": {
        "id": "vfBt0OX6nNN3",
        "colab_type": "text"
      },
      "source": [
        "**Note**:\n",
        "- A **common mistake** when using dropout is to use it both in training and testing. You should use dropout (randomly eliminate nodes) only in training. \n",
        "- Deep learning frameworks like [Pytorch](pytorch.org), [tensorflow](https://www.tensorflow.org/api_docs/python/tf/nn/dropout), [PaddlePaddle](http://doc.paddlepaddle.org/release_doc/0.9.0/doc/ui/api/trainer_config_helpers/attrs.html), [keras](https://keras.io/layers/core/#dropout) or [caffe](http://caffe.berkeleyvision.org/tutorial/layers/dropout.html) come with a dropout layer implementation. \n",
        "\n",
        "\n",
        "**What you should remember about dropout:**\n",
        "- Dropout is a regularization technique.\n",
        "- You only use dropout during training. Don't use dropout (randomly eliminate nodes) during test time.\n",
        "- Apply dropout both during forward and backward propagation.\n",
        "- During training time, divide each dropout layer by keep_prob to keep the same expected value for the activations. For example, if keep_prob is 0.5, then we will on average shut down half the nodes, so the output will be scaled by 0.5 since only the remaining half are contributing to the solution. Dividing by 0.5 is equivalent to multiplying by 2. Hence, the output now has the same expected value. You can check that this works even when keep_prob is other values than 0.5.  "
      ]
    },
    {
      "cell_type": "markdown",
      "metadata": {
        "id": "SjaEdyJfnNN4",
        "colab_type": "text"
      },
      "source": [
        "## 4 - Conclusions"
      ]
    },
    {
      "cell_type": "markdown",
      "metadata": {
        "id": "zeRwJ6TTnNN4",
        "colab_type": "text"
      },
      "source": [
        "**Here are the results of our three models**: \n",
        "\n",
        "<table> \n",
        "  <tr>\n",
        "      <th>\n",
        "      model\n",
        "      </th>\n",
        "      <th>\n",
        "      train accuracy\n",
        "      </th>\n",
        "      <th>\n",
        "      test accuracy\n",
        "      </th>\n",
        "\n",
        "  </tr>\n",
        "      <td>\n",
        "      3-layer NN without regularization\n",
        "      </td>\n",
        "      <td>\n",
        "      94.8%\n",
        "      </td>\n",
        "      <td>\n",
        "      91.5%\n",
        "      </td>\n",
        "  <tr>\n",
        "      <td>\n",
        "      3-layer NN with L2-regularization\n",
        "      </td>\n",
        "      <td>\n",
        "      93.8%\n",
        "      </td>\n",
        "      <td>\n",
        "      93%\n",
        "      </td>\n",
        "  </tr>\n",
        "  <tr>\n",
        "      <td>\n",
        "      3-layer NN with dropout\n",
        "      </td>\n",
        "      <td>\n",
        "      92.9%\n",
        "      </td>\n",
        "      <td>\n",
        "      94.5%\n",
        "      </td>\n",
        "  </tr>\n",
        "</table> "
      ]
    },
    {
      "cell_type": "markdown",
      "metadata": {
        "id": "nGERszGVnNN5",
        "colab_type": "text"
      },
      "source": [
        "Note that regularization hurts training set performance! This is because it limits the ability of the network to overfit to the training set. But since it ultimately gives better test accuracy, it is helping your system. "
      ]
    },
    {
      "cell_type": "markdown",
      "metadata": {
        "id": "CI0DbfWLnNN6",
        "colab_type": "text"
      },
      "source": [
        "Congratulations for finishing this assignment! And also for revolutionizing French football. :-) "
      ]
    },
    {
      "cell_type": "markdown",
      "metadata": {
        "id": "6h8ueUPwnNN6",
        "colab_type": "text"
      },
      "source": [
        "\n",
        "**What we want you to remember from this notebook**:\n",
        "- Regularization will help you reduce overfitting.\n",
        "- Regularization will drive your weights to lower values.\n",
        "- L2 regularization and Dropout are two very effective regularization techniques."
      ]
    }
  ]
}