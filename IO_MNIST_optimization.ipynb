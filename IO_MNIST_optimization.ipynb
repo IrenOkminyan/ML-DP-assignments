{
  "nbformat": 4,
  "nbformat_minor": 0,
  "metadata": {
    "colab": {
      "name": "MNIST optimization.ipynb",
      "provenance": [],
      "collapsed_sections": []
    },
    "kernelspec": {
      "name": "python3",
      "display_name": "Python 3"
    },
    "accelerator": "GPU"
  },
  "cells": [
    {
      "cell_type": "code",
      "metadata": {
        "id": "t2qrDXAw2FmE",
        "colab_type": "code",
        "colab": {}
      },
      "source": [
        "import torch\n",
        "from torch import nn\n",
        "from torch.nn import functional as F\n",
        "import matplotlib.pyplot as plt\n",
        "import numpy as np\n",
        "from torchvision import datasets, transforms"
      ],
      "execution_count": 0,
      "outputs": []
    },
    {
      "cell_type": "code",
      "metadata": {
        "id": "nmntZ7GTmwZJ",
        "colab_type": "code",
        "colab": {}
      },
      "source": [
        "device = torch.device(\"cuda:0\" if torch.cuda.is_available() else \"cpu\")"
      ],
      "execution_count": 0,
      "outputs": []
    },
    {
      "cell_type": "code",
      "metadata": {
        "id": "Y-NZ7zYNENo_",
        "colab_type": "code",
        "colab": {}
      },
      "source": [
        "transform_train = transforms.Compose([\n",
        "                                      #transforms.RandomAffine(degrees = 15, translate = (0.15, 0.15)),\n",
        "                                      transforms.ToTensor(),\n",
        "                                      transforms.Normalize((0.5,), (0.5,))\n",
        "                                    ])\n",
        "transform_test = transforms.Compose([transforms.ToTensor(),\n",
        "                               transforms.Normalize((0.5, ), (0.5, ))\n",
        "                               ])"
      ],
      "execution_count": 0,
      "outputs": []
    },
    {
      "cell_type": "code",
      "metadata": {
        "id": "GJrMOP372U6K",
        "colab_type": "code",
        "colab": {}
      },
      "source": [
        "training_dataset = datasets.MNIST(root='./data', train = True, download = True, transform = transform_train)\n",
        "validation_dataset = datasets.MNIST(root='./data', train = False, download = True, transform = transform_test)"
      ],
      "execution_count": 0,
      "outputs": []
    },
    {
      "cell_type": "code",
      "metadata": {
        "id": "gG7tXlX-TMWk",
        "colab_type": "code",
        "colab": {}
      },
      "source": [
        "training_loader = torch.utils.data.DataLoader(dataset = training_dataset, batch_size = 64, shuffle = True)\n",
        "validation_loader = torch.utils.data.DataLoader(dataset = validation_dataset, batch_size = 64, shuffle = False)"
      ],
      "execution_count": 0,
      "outputs": []
    },
    {
      "cell_type": "code",
      "metadata": {
        "id": "tq1zFMpa8W0r",
        "colab_type": "code",
        "colab": {}
      },
      "source": [
        "def im_convert(tensor):\n",
        "  image = tensor.clone().detach().numpy()\n",
        "  image = image.transpose(1, 2, 0)\n",
        "  image = image * np.array((0.5, 0.5, 0.5)) + np.array((0.5, 0.5, 0.5))\n",
        "  image = image.clip(0, 1)\n",
        "  return image"
      ],
      "execution_count": 0,
      "outputs": []
    },
    {
      "cell_type": "code",
      "metadata": {
        "id": "GW4-txm1C0ni",
        "colab_type": "code",
        "outputId": "4b38d4f7-71d5-4657-b1bf-f459bf49de7a",
        "colab": {
          "base_uri": "https://localhost:8080/",
          "height": 250
        }
      },
      "source": [
        "dataiter = iter(training_loader)\n",
        "images, labels = dataiter.next()\n",
        "fig = plt.figure(figsize = (25, 4))\n",
        "\n",
        "for idx in np.arange(20):\n",
        "  ax = fig.add_subplot(2, 10, idx+1)\n",
        "  plt.imshow(im_convert(images[idx]))\n",
        "  ax.set_title([labels[idx].item()])\n",
        "   "
      ],
      "execution_count": 0,
      "outputs": [
        {
          "output_type": "display_data",
          "data": {
            "image/png": "[encoded data removed]",
            "text/plain": [
              "<Figure size 1800x288 with 20 Axes>"
            ]
          },
          "metadata": {
            "tags": []
          }
        }
      ]
    },
    {
      "cell_type": "code",
      "metadata": {
        "id": "bw5_rwD4CSR2",
        "colab_type": "code",
        "colab": {}
      },
      "source": [
        "class LeNet(nn.Module):\n",
        "  def __init__(self):\n",
        "    super().__init__()\n",
        "    self.conv1 = nn.Conv2d(1, 40, 5, 1) \n",
        "    self.conv2 = nn.Conv2d(40, 80, 5, 1)\n",
        "    self.fc1 = nn.Linear(4*4*80, 400)\n",
        "    #self.dropout1 = nn.Dropout(0.5)\n",
        "    self.fc2 = nn.Linear(400, 10)\n",
        "    \n",
        "  def forward(self, x):\n",
        "      x = F.relu(self.conv1(x))\n",
        "      x = F.max_pool2d(x, 2, 2)\n",
        "      x = F.relu(self.conv2(x))\n",
        "      x = F.max_pool2d(x, 2, 2)\n",
        "      x = x.view(-1, 4*4*80)\n",
        "      x = F.relu(self.fc1(x))\n",
        "      #x = self.dropout1(x)\n",
        "      x = self.fc2(x)\n",
        "      return x  \n",
        "      "
      ],
      "execution_count": 0,
      "outputs": []
    },
    {
      "cell_type": "code",
      "metadata": {
        "id": "KqUYepBae0or",
        "colab_type": "code",
        "outputId": "bd687a57-0510-4ad1-abe9-85b165956a4b",
        "colab": {
          "base_uri": "https://localhost:8080/",
          "height": 119
        }
      },
      "source": [
        "model = LeNet().to(device)\n",
        "model"
      ],
      "execution_count": 0,
      "outputs": [
        {
          "output_type": "execute_result",
          "data": {
            "text/plain": [
              "LeNet(\n",
              "  (conv1): Conv2d(1, 40, kernel_size=(5, 5), stride=(1, 1))\n",
              "  (conv2): Conv2d(40, 80, kernel_size=(5, 5), stride=(1, 1))\n",
              "  (fc1): Linear(in_features=1280, out_features=400, bias=True)\n",
              "  (fc2): Linear(in_features=400, out_features=10, bias=True)\n",
              ")"
            ]
          },
          "metadata": {
            "tags": []
          },
          "execution_count": 9
        }
      ]
    },
    {
      "cell_type": "markdown",
      "metadata": {
        "id": "wpw-biEcNr2U",
        "colab_type": "text"
      },
      "source": [
        "*   Conv1 --> n = [(24-5+0)/1 + 1] = 24,  params = (5x5 + 1)*40 = 1040\n",
        "*   Pool1 --> n = [(24-2+0)/2 + 1] = 12, no params\n",
        "\n",
        "*   Conv2 --> n = [(12-5+0)/1 + 1] = 8,  params = (5x5 + 1)*80 = 2080\n",
        "*   Pool2 --> n = [(8-2+0)/2 + 1] = 4, no params\n",
        "\n",
        "Input params for (fc1) will be 4x4x80 = 1280."
      ]
    },
    {
      "cell_type": "code",
      "metadata": {
        "id": "3F0KGhy0oRri",
        "colab_type": "code",
        "colab": {}
      },
      "source": [
        "criterion = nn.CrossEntropyLoss()\n",
        "optimizer = torch.optim.Adam(model.parameters(), lr = 0.0002)"
      ],
      "execution_count": 0,
      "outputs": []
    },
    {
      "cell_type": "code",
      "metadata": {
        "id": "-FUe1l3uouz8",
        "colab_type": "code",
        "outputId": "a74a1b21-8af5-41fa-8b3d-3d9e2048becb",
        "colab": {
          "base_uri": "https://localhost:8080/",
          "height": 1000
        }
      },
      "source": [
        "epochs = 30\n",
        "running_loss_history = []\n",
        "running_corrects_history = []\n",
        "val_running_loss_history = []\n",
        "val_running_corrects_history = []\n",
        "\n",
        "for e in range(epochs):\n",
        "  running_loss = 0.0\n",
        "  running_corrects = 0.0\n",
        "  val_running_loss = 0.0\n",
        "  val_running_corrects = 0.0\n",
        "  \n",
        "  for inputs, labels in training_loader:    \n",
        "    inputs = inputs.to(device) #GPU\n",
        "    labels = labels.to(device) #GPU\n",
        "    outputs = model(inputs)\n",
        "    loss = criterion(outputs, labels)\n",
        "    \n",
        "    loss.backward()\n",
        "    optimizer.step()\n",
        "    optimizer.zero_grad()\n",
        "    \n",
        "    _, preds = torch.max(outputs, 1)\n",
        "    running_loss += loss.item()\n",
        "    running_corrects += torch.sum(preds == labels.data)\n",
        "  else: \n",
        "    with torch.no_grad():\n",
        "      for val_inputs, val_labels in validation_loader:\n",
        "        val_inputs = val_inputs.to(device) #GPU\n",
        "        val_labels = val_labels.to(device) #GPU\n",
        "        val_outputs = model(val_inputs)\n",
        "        val_loss = criterion(val_outputs, val_labels)\n",
        "        \n",
        "        _, val_preds = torch.max(val_outputs, 1)\n",
        "        val_running_loss += val_loss.item()\n",
        "        val_running_corrects += torch.sum(val_preds == val_labels.data)\n",
        "      \n",
        "    epoch_loss = running_loss/len(training_loader)\n",
        "    epoch_acc = running_corrects.float()/len(training_dataset)*100\n",
        "    running_loss_history.append(epoch_loss)\n",
        "    running_corrects_history.append(epoch_acc)\n",
        "    \n",
        "    val_epoch_loss = val_running_loss/len(validation_loader)\n",
        "    val_epoch_acc = val_running_corrects.float()/len(validation_dataset)*100\n",
        "    val_running_loss_history.append(val_epoch_loss)\n",
        "    val_running_corrects_history.append(val_epoch_acc)\n",
        "\n",
        "    print('epoch: ', (e+1))\n",
        "    print('training loss: {:.4f}, {:.4f} '.format(epoch_loss, epoch_acc.item()))\n",
        "    print('validation loss: {:.4f}, {:.4f} '.format(val_epoch_loss, val_epoch_acc.item()))"
      ],
      "execution_count": 0,
      "outputs": [
        {
          "output_type": "stream",
          "text": [
            "epoch:  1\n",
            "training loss: 0.2209, 93.7900 \n",
            "validation loss: 0.0753, 97.7100 \n",
            "epoch:  2\n",
            "training loss: 0.0597, 98.1917 \n",
            "validation loss: 0.0397, 98.6700 \n",
            "epoch:  3\n",
            "training loss: 0.0425, 98.7050 \n",
            "validation loss: 0.0312, 98.9700 \n",
            "epoch:  4\n",
            "training loss: 0.0311, 99.0267 \n",
            "validation loss: 0.0300, 98.9100 \n",
            "epoch:  5\n",
            "training loss: 0.0251, 99.2100 \n",
            "validation loss: 0.0322, 98.9100 \n",
            "epoch:  6\n",
            "training loss: 0.0190, 99.4333 \n",
            "validation loss: 0.0280, 99.0700 \n",
            "epoch:  7\n",
            "training loss: 0.0157, 99.5067 \n",
            "validation loss: 0.0250, 99.1700 \n",
            "epoch:  8\n",
            "training loss: 0.0126, 99.6050 \n",
            "validation loss: 0.0250, 99.1900 \n",
            "epoch:  9\n",
            "training loss: 0.0108, 99.6500 \n",
            "validation loss: 0.0253, 99.1600 \n",
            "epoch:  10\n",
            "training loss: 0.0095, 99.7017 \n",
            "validation loss: 0.0254, 99.1600 \n",
            "epoch:  11\n",
            "training loss: 0.0072, 99.7950 \n",
            "validation loss: 0.0232, 99.2900 \n",
            "epoch:  12\n",
            "training loss: 0.0065, 99.7950 \n",
            "validation loss: 0.0271, 99.2100 \n",
            "epoch:  13\n",
            "training loss: 0.0066, 99.7833 \n",
            "validation loss: 0.0254, 99.2800 \n",
            "epoch:  14\n",
            "training loss: 0.0039, 99.8817 \n",
            "validation loss: 0.0249, 99.3700 \n",
            "epoch:  15\n",
            "training loss: 0.0043, 99.8617 \n",
            "validation loss: 0.0225, 99.3200 \n",
            "epoch:  16\n",
            "training loss: 0.0038, 99.8883 \n",
            "validation loss: 0.0324, 99.1500 \n",
            "epoch:  17\n",
            "training loss: 0.0032, 99.8783 \n",
            "validation loss: 0.0272, 99.1900 \n",
            "epoch:  18\n",
            "training loss: 0.0030, 99.9050 \n",
            "validation loss: 0.0297, 99.1700 \n",
            "epoch:  19\n",
            "training loss: 0.0030, 99.9050 \n",
            "validation loss: 0.0381, 99.2100 \n",
            "epoch:  20\n",
            "training loss: 0.0040, 99.8567 \n",
            "validation loss: 0.0281, 99.2900 \n",
            "epoch:  21\n",
            "training loss: 0.0025, 99.9117 \n",
            "validation loss: 0.0294, 99.1700 \n",
            "epoch:  22\n",
            "training loss: 0.0009, 99.9733 \n",
            "validation loss: 0.0259, 99.3200 \n",
            "epoch:  23\n",
            "training loss: 0.0024, 99.9317 \n",
            "validation loss: 0.0252, 99.3500 \n",
            "epoch:  24\n",
            "training loss: 0.0028, 99.8917 \n",
            "validation loss: 0.0354, 99.2000 \n",
            "epoch:  25\n",
            "training loss: 0.0017, 99.9467 \n",
            "validation loss: 0.0280, 99.3800 \n",
            "epoch:  26\n",
            "training loss: 0.0017, 99.9450 \n",
            "validation loss: 0.0340, 99.2500 \n",
            "epoch:  27\n",
            "training loss: 0.0026, 99.9150 \n",
            "validation loss: 0.0306, 99.3000 \n",
            "epoch:  28\n",
            "training loss: 0.0004, 99.9900 \n",
            "validation loss: 0.0283, 99.4200 \n",
            "epoch:  29\n",
            "training loss: 0.0001, 100.0000 \n",
            "validation loss: 0.0296, 99.4000 \n",
            "epoch:  30\n",
            "training loss: 0.0000, 100.0000 \n",
            "validation loss: 0.0291, 99.4800 \n"
          ],
          "name": "stdout"
        }
      ]
    },
    {
      "cell_type": "code",
      "metadata": {
        "id": "4qEdDZslLi0o",
        "colab_type": "code",
        "outputId": "1f942dd4-20a5-49a9-e427-15fefb8ff5a9",
        "colab": {
          "base_uri": "https://localhost:8080/",
          "height": 282
        }
      },
      "source": [
        "plt.plot(running_loss_history, label = 'training loss')\n",
        "plt.plot(val_running_loss_history, label = 'validation loss')\n",
        "plt.legend()"
      ],
      "execution_count": 0,
      "outputs": [
        {
          "output_type": "execute_result",
          "data": {
            "text/plain": [
              "<matplotlib.legend.Legend at 0x7f8e2b0e0be0>"
            ]
          },
          "metadata": {
            "tags": []
          },
          "execution_count": 14
        },
        {
          "output_type": "display_data",
          "data": {
            "image/png": "[encoded data removed]",
            "text/plain": [
              "<Figure size 432x288 with 1 Axes>"
            ]
          },
          "metadata": {
            "tags": []
          }
        }
      ]
    },
    {
      "cell_type": "code",
      "metadata": {
        "id": "VNILY9mfx85I",
        "colab_type": "code",
        "outputId": "bc46f585-69bb-4a7b-add3-38d0e60a528e",
        "colab": {
          "base_uri": "https://localhost:8080/",
          "height": 282
        }
      },
      "source": [
        "plt.plot(running_corrects_history, label = 'training accuracy')\n",
        "plt.plot(val_running_corrects_history, label = 'validation accuracy')\n",
        "plt.legend()"
      ],
      "execution_count": 0,
      "outputs": [
        {
          "output_type": "execute_result",
          "data": {
            "text/plain": [
              "<matplotlib.legend.Legend at 0x7f8e2b0548d0>"
            ]
          },
          "metadata": {
            "tags": []
          },
          "execution_count": 15
        },
        {
          "output_type": "display_data",
          "data": {
            "image/png": "[encoded data removed]",
            "text/plain": [
              "<Figure size 432x288 with 1 Axes>"
            ]
          },
          "metadata": {
            "tags": []
          }
        }
      ]
    },
    {
      "cell_type": "code",
      "metadata": {
        "id": "mA9ME-cIfEtD",
        "colab_type": "code",
        "colab": {}
      },
      "source": [
        ""
      ],
      "execution_count": 0,
      "outputs": []
    }
  ]
}