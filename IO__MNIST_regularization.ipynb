{
  "nbformat": 4,
  "nbformat_minor": 0,
  "metadata": {
    "colab": {
      "name": "MNIST regularization.ipynb",
      "provenance": [],
      "collapsed_sections": []
    },
    "kernelspec": {
      "name": "python3",
      "display_name": "Python 3"
    },
    "accelerator": "GPU"
  },
  "cells": [
    {
      "cell_type": "code",
      "metadata": {
        "id": "t2qrDXAw2FmE",
        "colab_type": "code",
        "colab": {}
      },
      "source": [
        "import torch\n",
        "from torch import nn\n",
        "from torch.nn import functional as F\n",
        "import matplotlib.pyplot as plt\n",
        "import numpy as np\n",
        "from torchvision import datasets, transforms"
      ],
      "execution_count": 0,
      "outputs": []
    },
    {
      "cell_type": "code",
      "metadata": {
        "id": "nmntZ7GTmwZJ",
        "colab_type": "code",
        "colab": {}
      },
      "source": [
        "device = torch.device(\"cuda:0\" if torch.cuda.is_available() else \"cpu\")"
      ],
      "execution_count": 0,
      "outputs": []
    },
    {
      "cell_type": "code",
      "metadata": {
        "id": "Y-NZ7zYNENo_",
        "colab_type": "code",
        "colab": {}
      },
      "source": [
        "transform_train = transforms.Compose([\n",
        "                                      #transforms.RandomAffine(degrees = 15, translate = (0.15, 0.15)),\n",
        "                                      transforms.ToTensor(),\n",
        "                                      transforms.Normalize((0.5,), (0.5,))\n",
        "                                    ])\n",
        "transform_test = transforms.Compose([transforms.ToTensor(),\n",
        "                               transforms.Normalize((0.5, ), (0.5, ))\n",
        "                               ])"
      ],
      "execution_count": 0,
      "outputs": []
    },
    {
      "cell_type": "code",
      "metadata": {
        "id": "GJrMOP372U6K",
        "colab_type": "code",
        "colab": {}
      },
      "source": [
        "training_dataset = datasets.MNIST(root='./data', train = True, download = True, transform = transform_train)\n",
        "validation_dataset = datasets.MNIST(root='./data', train = False, download = True, transform = transform_test)"
      ],
      "execution_count": 0,
      "outputs": []
    },
    {
      "cell_type": "code",
      "metadata": {
        "id": "gG7tXlX-TMWk",
        "colab_type": "code",
        "colab": {}
      },
      "source": [
        "training_loader = torch.utils.data.DataLoader(dataset = training_dataset, batch_size = 64, shuffle = True)\n",
        "validation_loader = torch.utils.data.DataLoader(dataset = validation_dataset, batch_size = 64, shuffle = False)"
      ],
      "execution_count": 0,
      "outputs": []
    },
    {
      "cell_type": "code",
      "metadata": {
        "id": "tq1zFMpa8W0r",
        "colab_type": "code",
        "colab": {}
      },
      "source": [
        "def im_convert(tensor):\n",
        "  image = tensor.clone().detach().numpy()\n",
        "  image = image.transpose(1, 2, 0)\n",
        "  image = image * np.array((0.5, 0.5, 0.5)) + np.array((0.5, 0.5, 0.5))\n",
        "  image = image.clip(0, 1)\n",
        "  return image"
      ],
      "execution_count": 0,
      "outputs": []
    },
    {
      "cell_type": "code",
      "metadata": {
        "id": "GW4-txm1C0ni",
        "colab_type": "code",
        "outputId": "ae55ce4b-7cca-4a14-b39b-2938be965cc4",
        "colab": {
          "base_uri": "https://localhost:8080/",
          "height": 250
        }
      },
      "source": [
        "dataiter = iter(training_loader)\n",
        "images, labels = dataiter.next()\n",
        "fig = plt.figure(figsize = (25, 4))\n",
        "\n",
        "for idx in np.arange(20):\n",
        "  ax = fig.add_subplot(2, 10, idx+1)\n",
        "  plt.imshow(im_convert(images[idx]))\n",
        "  ax.set_title([labels[idx].item()])\n",
        "   "
      ],
      "execution_count": 0,
      "outputs": [
        {
          "output_type": "display_data",
          "data": {
            "image/png": "[encoded data removed]",
            "text/plain": [
              "<Figure size 1800x288 with 20 Axes>"
            ]
          },
          "metadata": {
            "tags": []
          }
        }
      ]
    },
    {
      "cell_type": "code",
      "metadata": {
        "id": "bw5_rwD4CSR2",
        "colab_type": "code",
        "colab": {}
      },
      "source": [
        "class LeNet(nn.Module):\n",
        "  def __init__(self):\n",
        "    super().__init__()\n",
        "    self.conv1 = nn.Conv2d(1, 40, 5, 1) \n",
        "    self.conv2 = nn.Conv2d(40, 80, 5, 1)\n",
        "    self.fc1 = nn.Linear(4*4*80, 400)\n",
        "    self.dropout1 = nn.Dropout(0.95)\n",
        "    self.fc2 = nn.Linear(400, 10)\n",
        "    \n",
        "  def forward(self, x):\n",
        "      x = F.relu(self.conv1(x))\n",
        "      x = F.max_pool2d(x, 2, 2)\n",
        "      x = F.relu(self.conv2(x))\n",
        "      x = F.max_pool2d(x, 2, 2)\n",
        "      x = x.view(-1, 4*4*80)\n",
        "      x = F.relu(self.fc1(x))\n",
        "      x = self.dropout1(x)\n",
        "      x = self.fc2(x)\n",
        "      return x  \n",
        "      "
      ],
      "execution_count": 0,
      "outputs": []
    },
    {
      "cell_type": "code",
      "metadata": {
        "id": "KqUYepBae0or",
        "colab_type": "code",
        "outputId": "bafd35ae-f036-4dc1-83b9-0ace34ef9095",
        "colab": {
          "base_uri": "https://localhost:8080/",
          "height": 136
        }
      },
      "source": [
        "model = LeNet().to(device)\n",
        "model"
      ],
      "execution_count": 0,
      "outputs": [
        {
          "output_type": "execute_result",
          "data": {
            "text/plain": [
              "LeNet(\n",
              "  (conv1): Conv2d(1, 40, kernel_size=(5, 5), stride=(1, 1))\n",
              "  (conv2): Conv2d(40, 80, kernel_size=(5, 5), stride=(1, 1))\n",
              "  (fc1): Linear(in_features=1280, out_features=400, bias=True)\n",
              "  (dropout1): Dropout(p=0.95, inplace=False)\n",
              "  (fc2): Linear(in_features=400, out_features=10, bias=True)\n",
              ")"
            ]
          },
          "metadata": {
            "tags": []
          },
          "execution_count": 9
        }
      ]
    },
    {
      "cell_type": "markdown",
      "metadata": {
        "id": "wpw-biEcNr2U",
        "colab_type": "text"
      },
      "source": [
        "*   Conv1 --> n = [(24-5+0)/1 + 1] = 24,  params = (5x5 + 1)*40 = 1040\n",
        "*   Pool1 --> n = [(24-2+0)/2 + 1] = 12, no params\n",
        "\n",
        "*   Conv2 --> n = [(12-5+0)/1 + 1] = 8,  params = (5x5 + 1)*80 = 2080\n",
        "*   Pool2 --> n = [(8-2+0)/2 + 1] = 4, no params\n",
        "\n",
        "Input params for (fc1) will be 4x4x80 = 1280."
      ]
    },
    {
      "cell_type": "code",
      "metadata": {
        "id": "3F0KGhy0oRri",
        "colab_type": "code",
        "colab": {}
      },
      "source": [
        "criterion = nn.CrossEntropyLoss()\n",
        "optimizer = torch.optim.Adam(model.parameters(), lr = 0.0002)\n",
        "#optimizer = torch.optim.Adam(model.parameters(), lr = 0.0002,weight_decay=0.001)"
      ],
      "execution_count": 0,
      "outputs": []
    },
    {
      "cell_type": "code",
      "metadata": {
        "id": "-FUe1l3uouz8",
        "colab_type": "code",
        "outputId": "64a11149-e234-4ca5-9dec-c14dd232b556",
        "colab": {
          "base_uri": "https://localhost:8080/",
          "height": 1000
        }
      },
      "source": [
        "epochs = 30\n",
        "running_loss_history = []\n",
        "running_corrects_history = []\n",
        "val_running_loss_history = []\n",
        "val_running_corrects_history = []\n",
        "\n",
        "for e in range(epochs):\n",
        "  running_loss = 0.0\n",
        "  running_corrects = 0.0\n",
        "  val_running_loss = 0.0\n",
        "  val_running_corrects = 0.0\n",
        "  \n",
        "  for inputs, labels in training_loader:    \n",
        "    inputs = inputs.to(device) #GPU\n",
        "    labels = labels.to(device) #GPU\n",
        "    outputs = model(inputs)\n",
        "    loss = criterion(outputs, labels)\n",
        "    \n",
        "    loss.backward()\n",
        "    optimizer.step()\n",
        "    optimizer.zero_grad()\n",
        "    \n",
        "    _, preds = torch.max(outputs, 1)\n",
        "    running_loss += loss.item()\n",
        "    running_corrects += torch.sum(preds == labels.data)\n",
        "  else: \n",
        "    with torch.no_grad():\n",
        "      for val_inputs, val_labels in validation_loader:\n",
        "        val_inputs = val_inputs.to(device) #GPU\n",
        "        val_labels = val_labels.to(device) #GPU\n",
        "        val_outputs = model(val_inputs)\n",
        "        val_loss = criterion(val_outputs, val_labels)\n",
        "        \n",
        "        _, val_preds = torch.max(val_outputs, 1)\n",
        "        val_running_loss += val_loss.item()\n",
        "        val_running_corrects += torch.sum(val_preds == val_labels.data)\n",
        "      \n",
        "    epoch_loss = running_loss/len(training_loader)\n",
        "    epoch_acc = running_corrects.float()/len(training_dataset)*100\n",
        "    running_loss_history.append(epoch_loss)\n",
        "    running_corrects_history.append(epoch_acc)\n",
        "    \n",
        "    val_epoch_loss = val_running_loss/len(validation_loader)\n",
        "    val_epoch_acc = val_running_corrects.float()/len(validation_dataset)*100\n",
        "    val_running_loss_history.append(val_epoch_loss)\n",
        "    val_running_corrects_history.append(val_epoch_acc)\n",
        "\n",
        "    print('epoch: ', (e+1))\n",
        "    print('training loss: {:.4f}, {:.4f} '.format(epoch_loss, epoch_acc.item()))\n",
        "    print('validation loss: {:.4f}, {:.4f} '.format(val_epoch_loss, val_epoch_acc.item()))"
      ],
      "execution_count": 0,
      "outputs": [
        {
          "output_type": "stream",
          "text": [
            "epoch:  1\n",
            "training loss: 0.9421, 67.5067 \n",
            "validation loss: 0.5000, 82.6500 \n",
            "epoch:  2\n",
            "training loss: 0.4274, 85.3750 \n",
            "validation loss: 0.3425, 87.9400 \n",
            "epoch:  3\n",
            "training loss: 0.3256, 88.6983 \n",
            "validation loss: 0.2815, 89.7700 \n",
            "epoch:  4\n",
            "training loss: 0.2786, 90.2400 \n",
            "validation loss: 0.2414, 91.1000 \n",
            "epoch:  5\n",
            "training loss: 0.2415, 91.3633 \n",
            "validation loss: 0.2120, 92.3100 \n",
            "epoch:  6\n",
            "training loss: 0.2162, 92.2933 \n",
            "validation loss: 0.1927, 92.7900 \n",
            "epoch:  7\n",
            "training loss: 0.2017, 92.8533 \n",
            "validation loss: 0.1834, 93.4400 \n",
            "epoch:  8\n",
            "training loss: 0.1874, 93.2333 \n",
            "validation loss: 0.1682, 93.8800 \n",
            "epoch:  9\n",
            "training loss: 0.1727, 93.7617 \n",
            "validation loss: 0.1705, 93.8400 \n",
            "epoch:  10\n",
            "training loss: 0.1614, 94.0000 \n",
            "validation loss: 0.1638, 94.0000 \n",
            "epoch:  11\n",
            "training loss: 0.1515, 94.4317 \n",
            "validation loss: 0.1514, 94.5200 \n",
            "epoch:  12\n",
            "training loss: 0.1434, 94.7217 \n",
            "validation loss: 0.1416, 94.8800 \n",
            "epoch:  13\n",
            "training loss: 0.1379, 94.8050 \n",
            "validation loss: 0.1381, 94.8500 \n",
            "epoch:  14\n",
            "training loss: 0.1306, 95.0233 \n",
            "validation loss: 0.1391, 94.7900 \n",
            "epoch:  15\n",
            "training loss: 0.1284, 95.0650 \n",
            "validation loss: 0.1260, 95.2700 \n",
            "epoch:  16\n",
            "training loss: 0.1247, 95.3183 \n",
            "validation loss: 0.1301, 95.7900 \n",
            "epoch:  17\n",
            "training loss: 0.1179, 95.4900 \n",
            "validation loss: 0.1158, 95.5900 \n",
            "epoch:  18\n",
            "training loss: 0.1102, 95.7350 \n",
            "validation loss: 0.1124, 95.8700 \n",
            "epoch:  19\n",
            "training loss: 0.1076, 95.8900 \n",
            "validation loss: 0.1135, 96.1100 \n",
            "epoch:  20\n",
            "training loss: 0.1080, 95.7850 \n",
            "validation loss: 0.1115, 95.6700 \n",
            "epoch:  21\n",
            "training loss: 0.1034, 95.9317 \n",
            "validation loss: 0.1145, 96.1500 \n",
            "epoch:  22\n",
            "training loss: 0.1012, 96.1833 \n",
            "validation loss: 0.1121, 95.9100 \n",
            "epoch:  23\n",
            "training loss: 0.0963, 96.3933 \n",
            "validation loss: 0.1026, 96.2700 \n",
            "epoch:  24\n",
            "training loss: 0.0926, 96.4100 \n",
            "validation loss: 0.1038, 96.0100 \n",
            "epoch:  25\n",
            "training loss: 0.0923, 96.4000 \n",
            "validation loss: 0.1084, 96.0200 \n",
            "epoch:  26\n",
            "training loss: 0.0891, 96.4517 \n",
            "validation loss: 0.1076, 95.9400 \n",
            "epoch:  27\n",
            "training loss: 0.0883, 96.4850 \n",
            "validation loss: 0.1064, 96.3800 \n",
            "epoch:  28\n",
            "training loss: 0.0869, 96.5133 \n",
            "validation loss: 0.1013, 96.2700 \n",
            "epoch:  29\n",
            "training loss: 0.0870, 96.5750 \n",
            "validation loss: 0.1019, 96.5100 \n",
            "epoch:  30\n",
            "training loss: 0.0819, 96.7950 \n",
            "validation loss: 0.1062, 96.3900 \n"
          ],
          "name": "stdout"
        }
      ]
    },
    {
      "cell_type": "code",
      "metadata": {
        "id": "4qEdDZslLi0o",
        "colab_type": "code",
        "outputId": "04c03b12-1fcc-4da0-b683-c8d09dc69997",
        "colab": {
          "base_uri": "https://localhost:8080/",
          "height": 282
        }
      },
      "source": [
        "plt.plot(running_loss_history, label = 'training loss')\n",
        "plt.plot(val_running_loss_history, label = 'validation loss')\n",
        "plt.legend()"
      ],
      "execution_count": 0,
      "outputs": [
        {
          "output_type": "execute_result",
          "data": {
            "text/plain": [
              "<matplotlib.legend.Legend at 0x7f1d587b61d0>"
            ]
          },
          "metadata": {
            "tags": []
          },
          "execution_count": 12
        },
        {
          "output_type": "display_data",
          "data": {
            "image/png": "[encoded data removed]",
            "text/plain": [
              "<Figure size 432x288 with 1 Axes>"
            ]
          },
          "metadata": {
            "tags": []
          }
        }
      ]
    },
    {
      "cell_type": "code",
      "metadata": {
        "id": "VNILY9mfx85I",
        "colab_type": "code",
        "outputId": "a383ac3a-62d6-4bec-9677-03fabc6c7138",
        "colab": {
          "base_uri": "https://localhost:8080/",
          "height": 282
        }
      },
      "source": [
        "plt.plot(running_corrects_history, label = 'training accuracy')\n",
        "plt.plot(val_running_corrects_history, label = 'validation accuracy')\n",
        "plt.legend()"
      ],
      "execution_count": 0,
      "outputs": [
        {
          "output_type": "execute_result",
          "data": {
            "text/plain": [
              "<matplotlib.legend.Legend at 0x7f1d589a9e10>"
            ]
          },
          "metadata": {
            "tags": []
          },
          "execution_count": 13
        },
        {
          "output_type": "display_data",
          "data": {
            "image/png": "[encoded data removed]",
            "text/plain": [
              "<Figure size 432x288 with 1 Axes>"
            ]
          },
          "metadata": {
            "tags": []
          }
        }
      ]
    },
    {
      "cell_type": "code",
      "metadata": {
        "id": "mA9ME-cIfEtD",
        "colab_type": "code",
        "colab": {}
      },
      "source": [
        ""
      ],
      "execution_count": 0,
      "outputs": []
    }
  ]
}